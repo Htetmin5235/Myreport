{
  "nbformat": 4,
  "nbformat_minor": 0,
  "metadata": {
    "colab": {
      "name": "ИС__lab6_2.ipynb",
      "provenance": [],
      "collapsed_sections": [],
      "include_colab_link": true
    },
    "kernelspec": {
      "name": "python3",
      "display_name": "Python 3"
    }
  },
  "cells": [
    {
      "cell_type": "markdown",
      "metadata": {
        "id": "view-in-github",
        "colab_type": "text"
      },
      "source": [
        "<a href=\"https://colab.research.google.com/github/Htetmin5235/Myreport/blob/master/%D0%98%D0%A1__lab6_2.ipynb\" target=\"_parent\"><img src=\"https://colab.research.google.com/assets/colab-badge.svg\" alt=\"Open In Colab\"/></a>"
      ]
    },
    {
      "cell_type": "code",
      "metadata": {
        "id": "9Ezi0Im18w5B",
        "colab_type": "code",
        "colab": {
          "base_uri": "https://localhost:8080/",
          "height": 34
        },
        "outputId": "563a9ab6-fa1f-4061-f39f-2c174e40f525"
      },
      "source": [
        "%tensorflow_version 1.x"
      ],
      "execution_count": 1,
      "outputs": [
        {
          "output_type": "stream",
          "text": [
            "TensorFlow 1.x selected.\n"
          ],
          "name": "stdout"
        }
      ]
    },
    {
      "cell_type": "code",
      "metadata": {
        "id": "RAYfOzTU_-1M",
        "colab_type": "code",
        "colab": {}
      },
      "source": [
        "import numpy as np\n",
        "import random\n",
        "import math\n",
        "import tensorflow as tf\n",
        "import matplotlib.pyplot as plt"
      ],
      "execution_count": 0,
      "outputs": []
    },
    {
      "cell_type": "markdown",
      "metadata": {
        "id": "BYxc9ovVoPG3",
        "colab_type": "text"
      },
      "source": [
        "**Data generation**"
      ]
    },
    {
      "cell_type": "markdown",
      "metadata": {
        "id": "br_WB0mzoZv2",
        "colab_type": "text"
      },
      "source": [
        "**Auxiliary f-I to determine the series, which is a superposition of 2x sinusoids**"
      ]
    },
    {
      "cell_type": "code",
      "metadata": {
        "id": "ZfD_IV3HZ7F2",
        "colab_type": "code",
        "colab": {}
      },
      "source": [
        "def generate_x_y_data_two_freqs(isTrain , batch_size , seq_length):\n",
        "    batch_x = [] \n",
        "    batch_y = []\n",
        "\n",
        "    for _ in range(batch_size):\n",
        "        offset_rand = random.random() * 2 * math.pi\n",
        "        freq_rand = (random.random() - 0.5) / 1.5 * 15 + 0.5\n",
        "        amp_rand = random.random() + 0.1\n",
        "        \n",
        "        sig1 = amp_rand * np.sin(np.linspace(\n",
        "            seq_length / 15.0 * freq_rand * 0.0 * math.pi + offset_rand,\n",
        "            seq_length / 15.0 * freq_rand * 3.0 * math.pi + offset_rand , seq_length * 2)\n",
        "        )\n",
        "        \n",
        "        offset_rand = random.random() * 2 * math.pi\n",
        "        freq_rand = (random.random() - 0.5) / 1.5 * 15 + 0.5\n",
        "        amp_rand = random.random() * 1.2\n",
        "        sig1 = amp_rand * np.cos(np.linspace(\n",
        "            seq_length / 15.0 * freq_rand * 0.0 * math.pi + offset_rand,\n",
        "            seq_length / 15.0 * freq_rand * 3.0 * math.pi + offset_rand , seq_length * 2)\n",
        "        ) + sig1\n",
        "        \n",
        "        x1 = sig1[:seq_length]\n",
        "        y1 = sig1[seq_length:]\n",
        "        x_ = np.array([x1])\n",
        "        y_ = np.array([y1])\n",
        "        x_, y_ = x_.T, y_.T\n",
        "        \n",
        "        batch_x.append(x_)\n",
        "        batch_y.append(y_)\n",
        "        \n",
        "    batch_x = np.array(batch_x)\n",
        "    batch_y = np.array(batch_y)\n",
        "    # размерность: (batch_size , seq_length , output_dim)\n",
        "    batch_x = np.array(batch_x).transpose((1, 0, 2))\n",
        "    batch_y = np.array(batch_y).transpose((1, 0, 2))\n",
        "    # размерность: (seq_length , batch_size , output_dim)\n",
        "\n",
        "    return batch_x , batch_y"
      ],
      "execution_count": 0,
      "outputs": []
    },
    {
      "cell_type": "code",
      "metadata": {
        "id": "DhvaGy1zQ45f",
        "colab_type": "code",
        "colab": {}
      },
      "source": [
        "def generate_x_y_data_v2(isTrain, batch_size):\n",
        "    return generate_x_y_data_two_freqs(isTrain, batch_size, seq_length=15)"
      ],
      "execution_count": 0,
      "outputs": []
    },
    {
      "cell_type": "markdown",
      "metadata": {
        "id": "Kryo4X0YqNiC",
        "colab_type": "text"
      },
      "source": [
        "**Parameter Definition Neural Network**"
      ]
    },
    {
      "cell_type": "code",
      "metadata": {
        "id": "6jjpUSLC924R",
        "colab_type": "code",
        "colab": {}
      },
      "source": [
        "# Данные имеют размерность (seq_length , batch_size , output_dim) \n",
        "sample_x , sample_y = generate_x_y_data_v2(isTrain=True , batch_size=3)\n",
        "\n",
        "# Длина последовательности (в данных примерах одинаковая для обучающих и тестовых данных)\n",
        "seq_length = sample_x.shape[0] \n",
        "\n",
        "# Размер пакета количество(тестовых примеров), по которому усредняется градиент\n",
        "batch_size = 100\n",
        "# Размерность выходных данных \n",
        "output_dim = input_dim = sample_x.shape[-1]\n",
        "# Количество скрытых нейронов в каждой ячейке\n",
        "hidden_dim = 50\n",
        "# Количество ячеек рекуррентной сети (в глубину)\n",
        "layers_stacked_count = 1\n",
        "\n",
        "# Параметры оптимизатора \n",
        "# Скорость обучения маленькая (скорость обучения позволяет алгоритму не расходиться во время обучения)\n",
        "learning_rate = 0.005\n",
        "# Количество итераций по обучающей выборке \n",
        "nb_iters = 1000\n",
        "# Дополнительные параметры алгоритма оптимизации\n",
        "lr_decay = 0.9\n",
        "momentum = 0.8\n",
        "# Коэффициент L2 регуляризации\n",
        "lambda_l2_reg = 1e-10"
      ],
      "execution_count": 0,
      "outputs": []
    },
    {
      "cell_type": "markdown",
      "metadata": {
        "id": "vGcKbosKqXcm",
        "colab_type": "text"
      },
      "source": [
        "**Description of Computing Graph**"
      ]
    },
    {
      "cell_type": "code",
      "metadata": {
        "id": "6z5e_fEe9FpG",
        "colab_type": "code",
        "colab": {
          "base_uri": "https://localhost:8080/",
          "height": 153
        },
        "outputId": "6060a1ba-aff1-47b9-e3c7-ac57403b2e30"
      },
      "source": [
        "tf.nn.seq2seq = tf.contrib.legacy_seq2seq\n",
        "tf.nn.rnn_cell = tf.contrib.rnn\n",
        "tf.nn.rnn_cell.GRUCell = tf.contrib.rnn.GRUCell"
      ],
      "execution_count": 7,
      "outputs": [
        {
          "output_type": "stream",
          "text": [
            "WARNING:tensorflow:\n",
            "The TensorFlow contrib module will not be included in TensorFlow 2.0.\n",
            "For more information, please see:\n",
            "  * https://github.com/tensorflow/community/blob/master/rfcs/20180907-contrib-sunset.md\n",
            "  * https://github.com/tensorflow/addons\n",
            "  * https://github.com/tensorflow/io (for I/O related ops)\n",
            "If you depend on functionality not listed there, please file an issue.\n",
            "\n"
          ],
          "name": "stdout"
        }
      ]
    },
    {
      "cell_type": "code",
      "metadata": {
        "id": "a2fz5s1Yq_LM",
        "colab_type": "code",
        "colab": {}
      },
      "source": [
        "tf.reset_default_graph()\n",
        "# интерактивная сессия\n",
        "sess = tf.InteractiveSession()"
      ],
      "execution_count": 0,
      "outputs": []
    },
    {
      "cell_type": "code",
      "metadata": {
        "id": "yMBw0_It9FvQ",
        "colab_type": "code",
        "colab": {
          "base_uri": "https://localhost:8080/",
          "height": 343
        },
        "outputId": "4af2f317-c421-4454-b37b-7bf04693ab57"
      },
      "source": [
        "with tf.variable_scope('Seq2seq'):\n",
        "    enc_inp = [\n",
        "        tf.placeholder(tf.float32, shape=(None, input_dim), name=\"inp_{}\".format(t))\n",
        "            for t in range(seq_length)\n",
        "    ]\n",
        "\n",
        "    expected_sparse_output = [\n",
        "        tf.placeholder(tf.float32 , shape=(None , output_dim), name=\"expected_sparse_output_\".format(t))\n",
        "            for t in range(seq_length)\n",
        "    ]\n",
        "    \n",
        "    dec_inp = [ tf.zeros_like(enc_inp[0], dtype=np.float32 , name=\"GO\") ] + enc_inp[:-1]\n",
        "    \n",
        "    cells = []\n",
        "    for i in range(layers_stacked_count):\n",
        "        with tf.variable_scope('RNN_{}'.format(i)):\n",
        "            cells.append(tf.nn.rnn_cell.GRUCell(hidden_dim))\n",
        "            \n",
        "    cell = tf.nn.rnn_cell.MultiRNNCell(cells)\n",
        "    \n",
        "    w_in = tf.Variable(tf.random_normal([input_dim , hidden_dim]))\n",
        "    b_in = tf.Variable(tf.random_normal([hidden_dim], mean=1.0))\n",
        "    w_out = tf.Variable(tf.random_normal([hidden_dim , output_dim]))\n",
        "    b_out = tf.Variable(tf.random_normal([output_dim]))\n",
        "\n",
        "    reshaped_inputs = [tf.nn.relu(tf.matmul(i, w_in) + b_in) for i in enc_inp]\n",
        "    \n",
        "    dec_outputs, dec_memory = tf.nn.seq2seq.basic_rnn_seq2seq(enc_inp, dec_inp, cell)\n",
        "    \n",
        "    output_scale_factor = tf.Variable(1.0, name=\"Output_ScaleFactor\")\n",
        "    reshaped_outputs = [output_scale_factor * (tf.matmul(i, w_out) + b_out) for i in dec_outputs]"
      ],
      "execution_count": 9,
      "outputs": [
        {
          "output_type": "stream",
          "text": [
            "WARNING:tensorflow:From <ipython-input-9-a9e263b0cf24>:17: GRUCell.__init__ (from tensorflow.python.ops.rnn_cell_impl) is deprecated and will be removed in a future version.\n",
            "Instructions for updating:\n",
            "This class is equivalent as tf.keras.layers.GRUCell, and will be replaced by that in Tensorflow 2.0.\n",
            "WARNING:tensorflow:From <ipython-input-9-a9e263b0cf24>:19: MultiRNNCell.__init__ (from tensorflow.python.ops.rnn_cell_impl) is deprecated and will be removed in a future version.\n",
            "Instructions for updating:\n",
            "This class is equivalent as tf.keras.layers.StackedRNNCells, and will be replaced by that in Tensorflow 2.0.\n",
            "WARNING:tensorflow:From /tensorflow-1.15.2/python3.6/tensorflow_core/contrib/legacy_seq2seq/python/ops/seq2seq.py:186: static_rnn (from tensorflow.python.ops.rnn) is deprecated and will be removed in a future version.\n",
            "Instructions for updating:\n",
            "Please use `keras.layers.RNN(cell, unroll=True)`, which is equivalent to this API\n",
            "WARNING:tensorflow:From /tensorflow-1.15.2/python3.6/tensorflow_core/python/ops/rnn_cell_impl.py:559: Layer.add_variable (from tensorflow.python.keras.engine.base_layer) is deprecated and will be removed in a future version.\n",
            "Instructions for updating:\n",
            "Please use `layer.add_weight` method instead.\n",
            "WARNING:tensorflow:From /tensorflow-1.15.2/python3.6/tensorflow_core/python/ops/rnn_cell_impl.py:565: calling Constant.__init__ (from tensorflow.python.ops.init_ops) with dtype is deprecated and will be removed in a future version.\n",
            "Instructions for updating:\n",
            "Call initializer instance with the dtype argument instead of passing it to the constructor\n",
            "WARNING:tensorflow:From /tensorflow-1.15.2/python3.6/tensorflow_core/python/ops/rnn_cell_impl.py:575: calling Zeros.__init__ (from tensorflow.python.ops.init_ops) with dtype is deprecated and will be removed in a future version.\n",
            "Instructions for updating:\n",
            "Call initializer instance with the dtype argument instead of passing it to the constructor\n"
          ],
          "name": "stdout"
        }
      ]
    },
    {
      "cell_type": "markdown",
      "metadata": {
        "id": "I2zJDGUutOZE",
        "colab_type": "text"
      },
      "source": [
        "**Description of loss function and optimizer**"
      ]
    },
    {
      "cell_type": "code",
      "metadata": {
        "id": "FtsXiyQNrsNm",
        "colab_type": "code",
        "colab": {}
      },
      "source": [
        "with tf.variable_scope('Loss'):\n",
        "    # L2 loss\n",
        "    output_loss = 0\n",
        "    for _y, _Y in zip(reshaped_outputs, expected_sparse_output):\n",
        "        output_loss += tf.reduce_mean(tf.nn.l2_loss(_y - _Y))\n",
        "\n",
        "    # слагаемое, отвечающее за L2 регуляризацию\n",
        "    reg_loss = 0\n",
        "    for tf_var in tf.trainable_variables():\n",
        "        if not (\"Bias\" in tf_var.name or \"Output_\" in tf_var.name):\n",
        "            reg_loss += tf.reduce_mean(tf.nn.l2_loss(tf_var))\n",
        "\n",
        "    loss = output_loss  + lambda_l2_reg * reg_loss"
      ],
      "execution_count": 0,
      "outputs": []
    },
    {
      "cell_type": "code",
      "metadata": {
        "id": "HLPRAys7rzty",
        "colab_type": "code",
        "colab": {
          "base_uri": "https://localhost:8080/",
          "height": 88
        },
        "outputId": "dc336963-7a08-4abd-e556-3f67d0e0212d"
      },
      "source": [
        "with tf.variable_scope('Optimizer'):\n",
        "    optimizer = tf.train.RMSPropOptimizer(learning_rate, decay=lr_decay, momentum=momentum)\n",
        "    train_op = optimizer.minimize(loss)"
      ],
      "execution_count": 11,
      "outputs": [
        {
          "output_type": "stream",
          "text": [
            "WARNING:tensorflow:From /tensorflow-1.15.2/python3.6/tensorflow_core/python/training/rmsprop.py:119: calling Ones.__init__ (from tensorflow.python.ops.init_ops) with dtype is deprecated and will be removed in a future version.\n",
            "Instructions for updating:\n",
            "Call initializer instance with the dtype argument instead of passing it to the constructor\n"
          ],
          "name": "stdout"
        }
      ]
    },
    {
      "cell_type": "code",
      "metadata": {
        "id": "8sh6_5on9F2Q",
        "colab_type": "code",
        "colab": {}
      },
      "source": [
        "# Шаг обучения, который оптимизирует веса в соответствии с переданным минипакетом-примеров\n",
        "def train_batch(batch_size):\n",
        "    X, Y = generate_x_y_data_v2(isTrain=True , batch_size=batch_size)\n",
        "    feed_dict = {enc_inp[t]: X[t] for t in range(len(enc_inp))} \n",
        "    feed_dict.update({expected_sparse_output[t]: Y[t] for t in range(len(expected_sparse_output))}) \n",
        "    #  запускаем сессию. При этом рассчитываются тензоры, указанные в первом параметре, \n",
        "    # а значения для них берутся из второго параметра\n",
        "    _, loss_t = sess.run([train_op , loss], feed_dict)\n",
        "    \n",
        "    return loss_t"
      ],
      "execution_count": 0,
      "outputs": []
    },
    {
      "cell_type": "markdown",
      "metadata": {
        "id": "Kqd-VgastE9J",
        "colab_type": "text"
      },
      "source": [
        "**Training and validation Neural Network**"
      ]
    },
    {
      "cell_type": "code",
      "metadata": {
        "id": "BOa8fdVv9F77",
        "colab_type": "code",
        "outputId": "3e3c1895-67a4-49dd-a3e1-c1475e6b5869",
        "colab": {
          "base_uri": "https://localhost:8080/",
          "height": 1000
        }
      },
      "source": [
        "# Тестовый прогон. Веса не обновляются благодаря тому, что переменная train_op не передается в sess.run\n",
        "def test_batch(batch_size, graph=False): \n",
        "    X, Y = generate_x_y_data_v2(isTrain=False, batch_size=batch_size)\n",
        "    feed_dict = {enc_inp[t]: X[t] for t in range(len(enc_inp))}\n",
        "    feed_dict.update({expected_sparse_output[t]: Y[t] for t in range(len(expected_sparse_output))}) \n",
        "    loss_t = sess.run([loss], feed_dict)\n",
        "    \n",
        "    return loss_t[0]\n",
        "\n",
        "train_losses = []\n",
        "test_losses = []\n",
        "sess.run(tf.global_variables_initializer())\n",
        "\n",
        "#nb_iters - количество шагов для обучения. После каждых 10 шагов проверяется ошибка на тестовой выборке\n",
        "\n",
        "\n",
        "for t in range(nb_iters+1):\n",
        "    train_loss = train_batch(batch_size)\n",
        "    train_losses.append(train_loss)\n",
        "\n",
        "    if t % 10 == 0:\n",
        "        test_loss = test_batch(batch_size, t==nb_iters)\n",
        "        test_losses.append(test_loss)\n",
        "        print(\"Step {}/{}, train loss: {}, \\tTEST loss: {}\".format(t, nb_iters , train_loss , test_loss))\n",
        "\n",
        "print(\"Fin. train loss: {}, \\tTEST loss: {}\".format(train_loss , test_loss))"
      ],
      "execution_count": 13,
      "outputs": [
        {
          "output_type": "stream",
          "text": [
            "Step 0/1000, train loss: 579.39794921875, \tTEST loss: 653.2476196289062\n",
            "Step 10/1000, train loss: 349.77728271484375, \tTEST loss: 367.494384765625\n",
            "Step 20/1000, train loss: 328.12554931640625, \tTEST loss: 364.5817565917969\n",
            "Step 30/1000, train loss: 337.41375732421875, \tTEST loss: 325.7295837402344\n",
            "Step 40/1000, train loss: 367.75885009765625, \tTEST loss: 350.08282470703125\n",
            "Step 50/1000, train loss: 332.7048645019531, \tTEST loss: 367.7042236328125\n",
            "Step 60/1000, train loss: 318.52459716796875, \tTEST loss: 367.3782043457031\n",
            "Step 70/1000, train loss: 343.55157470703125, \tTEST loss: 358.1736145019531\n",
            "Step 80/1000, train loss: 311.05126953125, \tTEST loss: 289.4693908691406\n",
            "Step 90/1000, train loss: 357.8045654296875, \tTEST loss: 263.4832458496094\n",
            "Step 100/1000, train loss: 284.8588562011719, \tTEST loss: 265.6140441894531\n",
            "Step 110/1000, train loss: 303.7195739746094, \tTEST loss: 236.10006713867188\n",
            "Step 120/1000, train loss: 245.62290954589844, \tTEST loss: 242.1343536376953\n",
            "Step 130/1000, train loss: 216.43475341796875, \tTEST loss: 245.29559326171875\n",
            "Step 140/1000, train loss: 271.2571105957031, \tTEST loss: 230.19940185546875\n",
            "Step 150/1000, train loss: 280.72442626953125, \tTEST loss: 232.54263305664062\n",
            "Step 160/1000, train loss: 194.06570434570312, \tTEST loss: 246.14999389648438\n",
            "Step 170/1000, train loss: 245.36993408203125, \tTEST loss: 227.0800323486328\n",
            "Step 180/1000, train loss: 197.3177947998047, \tTEST loss: 182.79217529296875\n",
            "Step 190/1000, train loss: 204.8095703125, \tTEST loss: 186.89788818359375\n",
            "Step 200/1000, train loss: 248.62640380859375, \tTEST loss: 212.96995544433594\n",
            "Step 210/1000, train loss: 202.68687438964844, \tTEST loss: 208.4755096435547\n",
            "Step 220/1000, train loss: 178.59645080566406, \tTEST loss: 201.55596923828125\n",
            "Step 230/1000, train loss: 164.51119995117188, \tTEST loss: 173.9324951171875\n",
            "Step 240/1000, train loss: 219.31082153320312, \tTEST loss: 191.9781951904297\n",
            "Step 250/1000, train loss: 233.1888427734375, \tTEST loss: 164.9217071533203\n",
            "Step 260/1000, train loss: 189.3214874267578, \tTEST loss: 168.234619140625\n",
            "Step 270/1000, train loss: 167.67222595214844, \tTEST loss: 188.01002502441406\n",
            "Step 280/1000, train loss: 189.2266387939453, \tTEST loss: 179.634033203125\n",
            "Step 290/1000, train loss: 169.432861328125, \tTEST loss: 179.20497131347656\n",
            "Step 300/1000, train loss: 155.92733764648438, \tTEST loss: 189.59930419921875\n",
            "Step 310/1000, train loss: 171.68850708007812, \tTEST loss: 164.24464416503906\n",
            "Step 320/1000, train loss: 173.21360778808594, \tTEST loss: 190.94439697265625\n",
            "Step 330/1000, train loss: 186.09027099609375, \tTEST loss: 161.5127716064453\n",
            "Step 340/1000, train loss: 194.5712432861328, \tTEST loss: 136.05032348632812\n",
            "Step 350/1000, train loss: 171.4738311767578, \tTEST loss: 177.65870666503906\n",
            "Step 360/1000, train loss: 211.36798095703125, \tTEST loss: 209.00311279296875\n",
            "Step 370/1000, train loss: 164.03616333007812, \tTEST loss: 150.28253173828125\n",
            "Step 380/1000, train loss: 155.6413116455078, \tTEST loss: 129.99900817871094\n",
            "Step 390/1000, train loss: 179.4334716796875, \tTEST loss: 145.41920471191406\n",
            "Step 400/1000, train loss: 163.57550048828125, \tTEST loss: 154.39686584472656\n",
            "Step 410/1000, train loss: 152.75082397460938, \tTEST loss: 142.2364501953125\n",
            "Step 420/1000, train loss: 174.75416564941406, \tTEST loss: 187.81143188476562\n",
            "Step 430/1000, train loss: 154.63136291503906, \tTEST loss: 193.5911865234375\n",
            "Step 440/1000, train loss: 168.07354736328125, \tTEST loss: 145.8453369140625\n",
            "Step 450/1000, train loss: 151.4058837890625, \tTEST loss: 110.89134216308594\n",
            "Step 460/1000, train loss: 170.93067932128906, \tTEST loss: 145.25506591796875\n",
            "Step 470/1000, train loss: 151.37185668945312, \tTEST loss: 185.88072204589844\n",
            "Step 480/1000, train loss: 156.29623413085938, \tTEST loss: 135.3128662109375\n",
            "Step 490/1000, train loss: 110.57490539550781, \tTEST loss: 126.90721130371094\n",
            "Step 500/1000, train loss: 157.22068786621094, \tTEST loss: 120.51383972167969\n",
            "Step 510/1000, train loss: 138.88449096679688, \tTEST loss: 121.0494155883789\n",
            "Step 520/1000, train loss: 145.29974365234375, \tTEST loss: 139.00547790527344\n",
            "Step 530/1000, train loss: 113.41898345947266, \tTEST loss: 118.68101501464844\n",
            "Step 540/1000, train loss: 128.74623107910156, \tTEST loss: 130.03919982910156\n",
            "Step 550/1000, train loss: 156.61537170410156, \tTEST loss: 122.33645629882812\n",
            "Step 560/1000, train loss: 157.19024658203125, \tTEST loss: 111.26969909667969\n",
            "Step 570/1000, train loss: 113.71514892578125, \tTEST loss: 99.42446899414062\n",
            "Step 580/1000, train loss: 115.93892669677734, \tTEST loss: 124.2176742553711\n",
            "Step 590/1000, train loss: 132.7828369140625, \tTEST loss: 102.79830932617188\n",
            "Step 600/1000, train loss: 123.37252044677734, \tTEST loss: 144.03857421875\n",
            "Step 610/1000, train loss: 103.34619140625, \tTEST loss: 104.58423614501953\n",
            "Step 620/1000, train loss: 151.21432495117188, \tTEST loss: 147.46353149414062\n",
            "Step 630/1000, train loss: 118.71752166748047, \tTEST loss: 130.03892517089844\n",
            "Step 640/1000, train loss: 101.7709732055664, \tTEST loss: 95.41449737548828\n",
            "Step 650/1000, train loss: 106.54855346679688, \tTEST loss: 125.31019592285156\n",
            "Step 660/1000, train loss: 130.692626953125, \tTEST loss: 144.947998046875\n",
            "Step 670/1000, train loss: 149.50709533691406, \tTEST loss: 96.95440673828125\n",
            "Step 680/1000, train loss: 85.64419555664062, \tTEST loss: 118.96214294433594\n",
            "Step 690/1000, train loss: 82.5383529663086, \tTEST loss: 103.78113555908203\n",
            "Step 700/1000, train loss: 89.33162689208984, \tTEST loss: 114.719482421875\n",
            "Step 710/1000, train loss: 118.60370635986328, \tTEST loss: 98.5636978149414\n",
            "Step 720/1000, train loss: 111.15095520019531, \tTEST loss: 105.18718719482422\n",
            "Step 730/1000, train loss: 141.69317626953125, \tTEST loss: 153.55667114257812\n",
            "Step 740/1000, train loss: 121.22817993164062, \tTEST loss: 115.2895736694336\n",
            "Step 750/1000, train loss: 120.70812225341797, \tTEST loss: 125.15817260742188\n",
            "Step 760/1000, train loss: 93.76386260986328, \tTEST loss: 96.3539810180664\n",
            "Step 770/1000, train loss: 98.51564025878906, \tTEST loss: 94.85757446289062\n",
            "Step 780/1000, train loss: 108.03059387207031, \tTEST loss: 131.8314666748047\n",
            "Step 790/1000, train loss: 122.79627990722656, \tTEST loss: 133.17189025878906\n",
            "Step 800/1000, train loss: 134.47808837890625, \tTEST loss: 113.98052978515625\n",
            "Step 810/1000, train loss: 116.82183837890625, \tTEST loss: 101.74346160888672\n",
            "Step 820/1000, train loss: 100.19507598876953, \tTEST loss: 96.3047103881836\n",
            "Step 830/1000, train loss: 109.67586517333984, \tTEST loss: 131.56289672851562\n",
            "Step 840/1000, train loss: 124.92866516113281, \tTEST loss: 108.04412078857422\n",
            "Step 850/1000, train loss: 96.4088363647461, \tTEST loss: 103.6771240234375\n",
            "Step 860/1000, train loss: 119.38861846923828, \tTEST loss: 78.59686279296875\n",
            "Step 870/1000, train loss: 125.63056182861328, \tTEST loss: 94.72029113769531\n",
            "Step 880/1000, train loss: 88.96055603027344, \tTEST loss: 102.76398468017578\n",
            "Step 890/1000, train loss: 94.78897094726562, \tTEST loss: 65.0629653930664\n",
            "Step 900/1000, train loss: 113.3913803100586, \tTEST loss: 112.97740173339844\n",
            "Step 910/1000, train loss: 81.529296875, \tTEST loss: 82.45074462890625\n",
            "Step 920/1000, train loss: 71.84164428710938, \tTEST loss: 113.33039855957031\n",
            "Step 930/1000, train loss: 102.69084167480469, \tTEST loss: 85.92517852783203\n",
            "Step 940/1000, train loss: 97.29788208007812, \tTEST loss: 119.80439758300781\n",
            "Step 950/1000, train loss: 80.56272888183594, \tTEST loss: 96.98419952392578\n",
            "Step 960/1000, train loss: 121.78911590576172, \tTEST loss: 94.09514617919922\n",
            "Step 970/1000, train loss: 120.66426086425781, \tTEST loss: 87.51931762695312\n",
            "Step 980/1000, train loss: 86.91410064697266, \tTEST loss: 112.24629211425781\n",
            "Step 990/1000, train loss: 89.97762298583984, \tTEST loss: 92.19683837890625\n",
            "Step 1000/1000, train loss: 86.16240692138672, \tTEST loss: 77.98897552490234\n",
            "Fin. train loss: 86.16240692138672, \tTEST loss: 77.98897552490234\n"
          ],
          "name": "stdout"
        }
      ]
    },
    {
      "cell_type": "markdown",
      "metadata": {
        "id": "UYztURk7tdZx",
        "colab_type": "text"
      },
      "source": [
        "**Results Visualization**"
      ]
    },
    {
      "cell_type": "markdown",
      "metadata": {
        "id": "RaNM30CXtdxk",
        "colab_type": "text"
      },
      "source": [
        "**Error dynamics in the training and test sample by iterations**"
      ]
    },
    {
      "cell_type": "code",
      "metadata": {
        "id": "oiQIoHSG9F6T",
        "colab_type": "code",
        "outputId": "b813ec74-fd40-4347-a5f6-c04911e948c5",
        "colab": {
          "base_uri": "https://localhost:8080/",
          "height": 388
        }
      },
      "source": [
        "plt.figure(figsize=(12, 6))\n",
        "plt.plot( np.array(range(0, len(test_losses)))/float(len(test_losses)-1)*(len(train_losses)-1), np.log(test_losses), label=\"Test loss\")\n",
        "plt.plot(np.log(train_losses), label=\"Train loss\")\n",
        "\n",
        "#log scale\n",
        "plt.legend([\"Test\",\"Train\"])\n",
        "plt.xlabel('Iteration')\n",
        "plt.ylabel('log(Loss)') \n",
        "plt.show()"
      ],
      "execution_count": 14,
      "outputs": [
        {
          "output_type": "display_data",
          "data": {
            "image/png": "[encoded data removed]",
            "text/plain": [
              "<Figure size 864x432 with 1 Axes>"
            ]
          },
          "metadata": {
            "tags": [],
            "needs_background": "light"
          }
        }
      ]
    },
    {
      "cell_type": "markdown",
      "metadata": {
        "id": "qay-jI60tsRy",
        "colab_type": "text"
      },
      "source": [
        "**Prediction Visualization**"
      ]
    },
    {
      "cell_type": "code",
      "metadata": {
        "id": "Cd0sno6c9F0q",
        "colab_type": "code",
        "outputId": "b1e8c055-5843-47ac-8603-f9a342304f9d",
        "colab": {
          "base_uri": "https://localhost:8080/",
          "height": 465
        }
      },
      "source": [
        "nb_predictions = 1\n",
        "print (\" Let 's visualize {} predictions with our signals :\". format (nb_predictions ))\n",
        "X, Y = generate_x_y_data_v2( isTrain =False , batch_size = nb_predictions )\n",
        "feed_dict = { enc_inp [t]: X[t] for t in range ( seq_length )}\n",
        "outputs = np.array( sess.run([ reshaped_outputs ], feed_dict )[0])\n",
        "# выводим предсказания по каждому пакету\n",
        "for j in range ( nb_predictions ):\n",
        "    plt.figure( figsize =(12 , 3))\n",
        "    for k in range ( output_dim ):\n",
        "        past = X[:,j,k]\n",
        "        expected = Y[:,j,k]\n",
        "        pred = outputs [:,j,k]\n",
        "    label1 = \" Seen ( past ) values \" if k ==0 else \" _nolegend_ \"\n",
        "    label2 = \" True future values \" if k ==0 else \" _nolegend_ \"\n",
        "    label3 = \" Predictions \" if k ==0 else \" _nolegend_ \"\n",
        "    plt.plot(range(len(past)), past , \"o--b\", label = label1 )\n",
        "    plt.plot(range(len(past),len(expected)+len(past)), expected, \"x--b\", label = label2)\n",
        "    plt.plot(range(len(past),len(pred) + len (past)), pred , \"o--y\", label = label3 )\n",
        "    plt.legend( loc ='best ')\n",
        "    plt.title(\" Predictions v.s. true values \")\n",
        "    plt.show()"
      ],
      "execution_count": 16,
      "outputs": [
        {
          "output_type": "stream",
          "text": [
            " Let 's visualize 1 predictions with our signals :\n"
          ],
          "name": "stdout"
        },
        {
          "output_type": "stream",
          "text": [
            "/usr/local/lib/python3.6/dist-packages/ipykernel_launcher.py:19: MatplotlibDeprecationWarning: Unrecognized location 'best '. Falling back on 'best'; valid locations are\n",
            "\tbest\n",
            "\tupper right\n",
            "\tupper left\n",
            "\tlower left\n",
            "\tlower right\n",
            "\tright\n",
            "\tcenter left\n",
            "\tcenter right\n",
            "\tlower center\n",
            "\tupper center\n",
            "\tcenter\n",
            "This will raise an exception in 3.3.\n"
          ],
          "name": "stderr"
        },
        {
          "output_type": "display_data",
          "data": {
            "image/png": "[encoded data removed]",
            "text/plain": [
              "<Figure size 864x216 with 1 Axes>"
            ]
          },
          "metadata": {
            "tags": [],
            "needs_background": "light"
          }
        }
      ]
    }
  ]
}