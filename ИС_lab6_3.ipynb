{
  "nbformat": 4,
  "nbformat_minor": 0,
  "metadata": {
    "colab": {
      "name": "ИС lab6_3.ipynb",
      "provenance": [],
      "collapsed_sections": [],
      "include_colab_link": true
    },
    "kernelspec": {
      "name": "python3",
      "display_name": "Python 3"
    }
  },
  "cells": [
    {
      "cell_type": "markdown",
      "metadata": {
        "id": "view-in-github",
        "colab_type": "text"
      },
      "source": [
        "<a href=\"https://colab.research.google.com/github/Htetmin5235/Myreport/blob/master/%D0%98%D0%A1_lab6_3.ipynb\" target=\"_parent\"><img src=\"https://colab.research.google.com/assets/colab-badge.svg\" alt=\"Open In Colab\"/></a>"
      ]
    },
    {
      "cell_type": "code",
      "metadata": {
        "id": "9Ezi0Im18w5B",
        "colab_type": "code",
        "outputId": "1de7602b-6cda-410d-c1eb-60888309c3de",
        "colab": {
          "base_uri": "https://localhost:8080/",
          "height": 34
        }
      },
      "source": [
        "%tensorflow_version 1.x"
      ],
      "execution_count": 1,
      "outputs": [
        {
          "output_type": "stream",
          "text": [
            "TensorFlow 1.x selected.\n"
          ],
          "name": "stdout"
        }
      ]
    },
    {
      "cell_type": "code",
      "metadata": {
        "id": "RAYfOzTU_-1M",
        "colab_type": "code",
        "colab": {}
      },
      "source": [
        "import numpy as np\n",
        "import random\n",
        "import math\n",
        "import tensorflow as tf\n",
        "import matplotlib.pyplot as plt"
      ],
      "execution_count": 0,
      "outputs": []
    },
    {
      "cell_type": "markdown",
      "metadata": {
        "id": "BYxc9ovVoPG3",
        "colab_type": "text"
      },
      "source": [
        "**Data generation**"
      ]
    },
    {
      "cell_type": "markdown",
      "metadata": {
        "id": "br_WB0mzoZv2",
        "colab_type": "text"
      },
      "source": [
        "**Generates two time series related to each other.**"
      ]
    },
    {
      "cell_type": "code",
      "metadata": {
        "id": "ZfD_IV3HZ7F2",
        "colab_type": "code",
        "colab": {}
      },
      "source": [
        "def generate_x_y_data_two_freqs(isTrain , batch_size , seq_length):\n",
        "    batch_x = [] \n",
        "    batch_y = []\n",
        "\n",
        "    for _ in range(batch_size):\n",
        "        offset_rand = random.random() * 2 * math.pi\n",
        "        freq_rand = (random.random() - 0.5) / 1.5 * 15 + 0.5\n",
        "        amp_rand = random.random() + 0.1\n",
        "        \n",
        "        sig1 = amp_rand * np.sin(np.linspace(\n",
        "            seq_length / 15.0 * freq_rand * 0.0 * math.pi + offset_rand,\n",
        "            seq_length / 15.0 * freq_rand * 3.0 * math.pi + offset_rand , seq_length * 2)\n",
        "        )\n",
        "        \n",
        "        offset_rand = random.random() * 2 * math.pi\n",
        "        freq_rand = (random.random() - 0.5) / 1.5 * 15 + 0.5\n",
        "        amp_rand = random.random() * 1.2\n",
        "        sig1 = amp_rand * np.cos(np.linspace(\n",
        "            seq_length / 15.0 * freq_rand * 0.0 * math.pi + offset_rand,\n",
        "            seq_length / 15.0 * freq_rand * 3.0 * math.pi + offset_rand , seq_length * 2)\n",
        "        ) + sig1\n",
        "        \n",
        "        x1 = sig1[:seq_length]\n",
        "        y1 = sig1[seq_length:]\n",
        "        x_ = np.array([x1])\n",
        "        y_ = np.array([y1])\n",
        "        x_, y_ = x_.T, y_.T\n",
        "        \n",
        "        batch_x.append(x_)\n",
        "        batch_y.append(y_)\n",
        "        \n",
        "    batch_x = np.array(batch_x)\n",
        "    batch_y = np.array(batch_y)\n",
        "    # размерность: (batch_size , seq_length , output_dim)\n",
        "    batch_x = np.array(batch_x).transpose((1, 0, 2))\n",
        "    batch_y = np.array(batch_y).transpose((1, 0, 2))\n",
        "    # размерность: (seq_length , batch_size , output_dim)\n",
        "\n",
        "    return batch_x , batch_y"
      ],
      "execution_count": 0,
      "outputs": []
    },
    {
      "cell_type": "code",
      "metadata": {
        "id": "6fWnmGXfa_Dv",
        "colab_type": "code",
        "colab": {}
      },
      "source": [
        "def generate_x_y_data_v3(isTrain , batch_size): \n",
        "  seq_length = 30 \n",
        "  x, y = generate_x_y_data_two_freqs( isTrain , batch_size , seq_length=seq_length) \n",
        "  noise_amount = random.random() * 0.15 + 0.10\n",
        "  x = x + noise_amount * np.random.randn(seq_length , batch_size , 1)\n",
        "  avg = np.average(x) \n",
        "  std = np.std(x) + 0.0001\n",
        "  x = x - avg \n",
        "  y = y - avg \n",
        "  x = x / std / 2.5 \n",
        "  y = y / std / 2.5\n",
        "\n",
        "  return x, y"
      ],
      "execution_count": 0,
      "outputs": []
    },
    {
      "cell_type": "code",
      "metadata": {
        "id": "_4lMC7B3a_h7",
        "colab_type": "code",
        "colab": {}
      },
      "source": [
        "def generate_x_y_data(isTrain, batch_size):\n",
        "    return generate_x_y_data_v3(isTrain, batch_size)"
      ],
      "execution_count": 0,
      "outputs": []
    },
    {
      "cell_type": "markdown",
      "metadata": {
        "id": "Kryo4X0YqNiC",
        "colab_type": "text"
      },
      "source": [
        "**Parameter Definition Neural Network**"
      ]
    },
    {
      "cell_type": "code",
      "metadata": {
        "id": "6jjpUSLC924R",
        "colab_type": "code",
        "colab": {}
      },
      "source": [
        "# Данные имеют размерность (seq_length , batch_size , output_dim) \n",
        "sample_x , sample_y = generate_x_y_data(isTrain=True , batch_size=3)\n",
        "\n",
        "# Длина последовательности (в данных примерах одинаковая для обучающих и тестовых данных)\n",
        "seq_length = sample_x.shape[0] \n",
        "\n",
        "# Размер пакета количество(тестовых примеров), по которому усредняется градиент\n",
        "batch_size = 100\n",
        "# Размерность выходных данных \n",
        "output_dim = input_dim = sample_x.shape[-1]\n",
        "# Количество скрытых нейронов в каждой ячейке\n",
        "hidden_dim = 50\n",
        "# Количество ячеек рекуррентной сети (в глубину)\n",
        "layers_stacked_count = 1\n",
        "\n",
        "# Параметры оптимизатора \n",
        "# Скорость обучения маленькая (скорость обучения позволяет алгоритму не расходиться во время обучения)\n",
        "learning_rate = 0.5\n",
        "# Количество итераций по обучающей выборке \n",
        "nb_iters = 500\n",
        "# Дополнительные параметры алгоритма оптимизации\n",
        "lr_decay = 0.3\n",
        "momentum = 0.9\n",
        "# Коэффициент L2 регуляризации\n",
        "lambda_l2_reg = 1e-10"
      ],
      "execution_count": 0,
      "outputs": []
    },
    {
      "cell_type": "markdown",
      "metadata": {
        "id": "vGcKbosKqXcm",
        "colab_type": "text"
      },
      "source": [
        "**Description of Computing Graph**"
      ]
    },
    {
      "cell_type": "code",
      "metadata": {
        "id": "6z5e_fEe9FpG",
        "colab_type": "code",
        "colab": {
          "base_uri": "https://localhost:8080/",
          "height": 153
        },
        "outputId": "21cbc404-9ac4-40d3-8352-56b1235f8bbf"
      },
      "source": [
        "tf.nn.seq2seq = tf.contrib.legacy_seq2seq\n",
        "tf.nn.rnn_cell = tf.contrib.rnn\n",
        "tf.nn.rnn_cell.GRUCell = tf.contrib.rnn.GRUCell"
      ],
      "execution_count": 10,
      "outputs": [
        {
          "output_type": "stream",
          "text": [
            "WARNING:tensorflow:\n",
            "The TensorFlow contrib module will not be included in TensorFlow 2.0.\n",
            "For more information, please see:\n",
            "  * https://github.com/tensorflow/community/blob/master/rfcs/20180907-contrib-sunset.md\n",
            "  * https://github.com/tensorflow/addons\n",
            "  * https://github.com/tensorflow/io (for I/O related ops)\n",
            "If you depend on functionality not listed there, please file an issue.\n",
            "\n"
          ],
          "name": "stdout"
        }
      ]
    },
    {
      "cell_type": "code",
      "metadata": {
        "id": "a2fz5s1Yq_LM",
        "colab_type": "code",
        "colab": {}
      },
      "source": [
        "tf.reset_default_graph()\n",
        "# интерактивная сессия\n",
        "sess = tf.InteractiveSession()"
      ],
      "execution_count": 0,
      "outputs": []
    },
    {
      "cell_type": "code",
      "metadata": {
        "id": "yMBw0_It9FvQ",
        "colab_type": "code",
        "colab": {
          "base_uri": "https://localhost:8080/",
          "height": 343
        },
        "outputId": "152da443-c665-403f-fd1f-825e127be9c0"
      },
      "source": [
        "with tf.variable_scope('Seq2seq'):\n",
        "    enc_inp = [\n",
        "        tf.placeholder(tf.float32, shape=(None, input_dim), name=\"inp_{}\".format(t))\n",
        "            for t in range(seq_length)\n",
        "    ]\n",
        "\n",
        "    expected_sparse_output = [\n",
        "        tf.placeholder(tf.float32 , shape=(None , output_dim), name=\"expected_sparse_output_\".format(t))\n",
        "            for t in range(seq_length)\n",
        "    ]\n",
        "    \n",
        "    dec_inp = [ tf.zeros_like(enc_inp[0], dtype=np.float32 , name=\"GO\") ] + enc_inp[:-1]\n",
        "    \n",
        "    cells = []\n",
        "    for i in range(layers_stacked_count):\n",
        "        with tf.variable_scope('RNN_{}'.format(i)):\n",
        "            cells.append(tf.nn.rnn_cell.GRUCell(hidden_dim))\n",
        "            \n",
        "    cell = tf.nn.rnn_cell.MultiRNNCell(cells)\n",
        "    \n",
        "    w_in = tf.Variable(tf.random_normal([input_dim , hidden_dim]))\n",
        "    b_in = tf.Variable(tf.random_normal([hidden_dim], mean=1.0))\n",
        "    w_out = tf.Variable(tf.random_normal([hidden_dim , output_dim]))\n",
        "    b_out = tf.Variable(tf.random_normal([output_dim]))\n",
        "\n",
        "    reshaped_inputs = [tf.nn.relu(tf.matmul(i, w_in) + b_in) for i in enc_inp]\n",
        "    \n",
        "    dec_outputs, dec_memory = tf.nn.seq2seq.basic_rnn_seq2seq(enc_inp, dec_inp, cell)\n",
        "    \n",
        "    output_scale_factor = tf.Variable(1.0, name=\"Output_ScaleFactor\")\n",
        "    reshaped_outputs = [output_scale_factor * (tf.matmul(i, w_out) + b_out) for i in dec_outputs]"
      ],
      "execution_count": 12,
      "outputs": [
        {
          "output_type": "stream",
          "text": [
            "WARNING:tensorflow:From <ipython-input-12-a9e263b0cf24>:17: GRUCell.__init__ (from tensorflow.python.ops.rnn_cell_impl) is deprecated and will be removed in a future version.\n",
            "Instructions for updating:\n",
            "This class is equivalent as tf.keras.layers.GRUCell, and will be replaced by that in Tensorflow 2.0.\n",
            "WARNING:tensorflow:From <ipython-input-12-a9e263b0cf24>:19: MultiRNNCell.__init__ (from tensorflow.python.ops.rnn_cell_impl) is deprecated and will be removed in a future version.\n",
            "Instructions for updating:\n",
            "This class is equivalent as tf.keras.layers.StackedRNNCells, and will be replaced by that in Tensorflow 2.0.\n",
            "WARNING:tensorflow:From /tensorflow-1.15.2/python3.6/tensorflow_core/contrib/legacy_seq2seq/python/ops/seq2seq.py:186: static_rnn (from tensorflow.python.ops.rnn) is deprecated and will be removed in a future version.\n",
            "Instructions for updating:\n",
            "Please use `keras.layers.RNN(cell, unroll=True)`, which is equivalent to this API\n",
            "WARNING:tensorflow:From /tensorflow-1.15.2/python3.6/tensorflow_core/python/ops/rnn_cell_impl.py:559: Layer.add_variable (from tensorflow.python.keras.engine.base_layer) is deprecated and will be removed in a future version.\n",
            "Instructions for updating:\n",
            "Please use `layer.add_weight` method instead.\n",
            "WARNING:tensorflow:From /tensorflow-1.15.2/python3.6/tensorflow_core/python/ops/rnn_cell_impl.py:565: calling Constant.__init__ (from tensorflow.python.ops.init_ops) with dtype is deprecated and will be removed in a future version.\n",
            "Instructions for updating:\n",
            "Call initializer instance with the dtype argument instead of passing it to the constructor\n",
            "WARNING:tensorflow:From /tensorflow-1.15.2/python3.6/tensorflow_core/python/ops/rnn_cell_impl.py:575: calling Zeros.__init__ (from tensorflow.python.ops.init_ops) with dtype is deprecated and will be removed in a future version.\n",
            "Instructions for updating:\n",
            "Call initializer instance with the dtype argument instead of passing it to the constructor\n"
          ],
          "name": "stdout"
        }
      ]
    },
    {
      "cell_type": "markdown",
      "metadata": {
        "id": "I2zJDGUutOZE",
        "colab_type": "text"
      },
      "source": [
        "**Description of loss function and optimizer**"
      ]
    },
    {
      "cell_type": "code",
      "metadata": {
        "id": "FtsXiyQNrsNm",
        "colab_type": "code",
        "colab": {}
      },
      "source": [
        "with tf.variable_scope('Loss'):\n",
        "    # L2 loss\n",
        "    output_loss = 0\n",
        "    for _y, _Y in zip(reshaped_outputs, expected_sparse_output):\n",
        "        output_loss += tf.reduce_mean(tf.nn.l2_loss(_y - _Y))\n",
        "\n",
        "    # слагаемое, отвечающее за L2 регуляризацию\n",
        "    reg_loss = 0\n",
        "    for tf_var in tf.trainable_variables():\n",
        "        if not (\"Bias\" in tf_var.name or \"Output_\" in tf_var.name):\n",
        "            reg_loss += tf.reduce_mean(tf.nn.l2_loss(tf_var))\n",
        "\n",
        "    loss = output_loss  + lambda_l2_reg * reg_loss"
      ],
      "execution_count": 0,
      "outputs": []
    },
    {
      "cell_type": "code",
      "metadata": {
        "id": "HLPRAys7rzty",
        "colab_type": "code",
        "colab": {
          "base_uri": "https://localhost:8080/",
          "height": 88
        },
        "outputId": "02add2cb-8eb4-408c-8225-5ce2f9c517e7"
      },
      "source": [
        "with tf.variable_scope('Optimizer'):\n",
        "    optimizer = tf.train.RMSPropOptimizer(learning_rate, decay=lr_decay, momentum=momentum)\n",
        "    train_op = optimizer.minimize(loss)"
      ],
      "execution_count": 14,
      "outputs": [
        {
          "output_type": "stream",
          "text": [
            "WARNING:tensorflow:From /tensorflow-1.15.2/python3.6/tensorflow_core/python/training/rmsprop.py:119: calling Ones.__init__ (from tensorflow.python.ops.init_ops) with dtype is deprecated and will be removed in a future version.\n",
            "Instructions for updating:\n",
            "Call initializer instance with the dtype argument instead of passing it to the constructor\n"
          ],
          "name": "stdout"
        }
      ]
    },
    {
      "cell_type": "code",
      "metadata": {
        "id": "8sh6_5on9F2Q",
        "colab_type": "code",
        "colab": {}
      },
      "source": [
        "# Шаг обучения, который оптимизирует веса в соответствии с переданным минипакетом-примеров\n",
        "def train_batch(batch_size):\n",
        "    X, Y = generate_x_y_data(isTrain=True , batch_size=batch_size)\n",
        "    feed_dict = {enc_inp[t]: X[t] for t in range(len(enc_inp))} \n",
        "    feed_dict.update({expected_sparse_output[t]: Y[t] for t in range(len(expected_sparse_output))}) \n",
        "    #  запускаем сессию. При этом рассчитываются тензоры, указанные в первом параметре, \n",
        "    # а значения для них берутся из второго параметра\n",
        "    _, loss_t = sess.run([train_op , loss], feed_dict)\n",
        "    \n",
        "    return loss_t"
      ],
      "execution_count": 0,
      "outputs": []
    },
    {
      "cell_type": "markdown",
      "metadata": {
        "id": "Kqd-VgastE9J",
        "colab_type": "text"
      },
      "source": [
        "**Training and validation Neural Network**"
      ]
    },
    {
      "cell_type": "code",
      "metadata": {
        "id": "BOa8fdVv9F77",
        "colab_type": "code",
        "outputId": "3ca3ddd2-5dcd-48d6-a530-140a0f615327",
        "colab": {
          "base_uri": "https://localhost:8080/",
          "height": 901
        }
      },
      "source": [
        "# Тестовый прогон. Веса не обновляются благодаря тому, что переменная train_op не передается в sess.run\n",
        "def test_batch(batch_size, graph=False): \n",
        "    X, Y = generate_x_y_data(isTrain=False, batch_size=batch_size)\n",
        "    feed_dict = {enc_inp[t]: X[t] for t in range(len(enc_inp))}\n",
        "    feed_dict.update({expected_sparse_output[t]: Y[t] for t in range(len(expected_sparse_output))}) \n",
        "    loss_t = sess.run([loss], feed_dict)\n",
        "    \n",
        "    return loss_t[0]\n",
        "\n",
        "train_losses = []\n",
        "test_losses = []\n",
        "sess.run(tf.global_variables_initializer())\n",
        "\n",
        "#nb_iters - количество шагов для обучения. После каждых 10 шагов проверяется ошибка на тестовой выборке\n",
        "\n",
        "for t in range(nb_iters+1):\n",
        "    train_loss = train_batch(batch_size)\n",
        "    train_losses.append(train_loss)\n",
        "\n",
        "    if t % 10 == 0:\n",
        "        test_loss = test_batch(batch_size, t==nb_iters)\n",
        "        test_losses.append(test_loss)\n",
        "        print(\"Step {}/{}, train loss: {}, \\tTEST loss: {}\".format(t, nb_iters , train_loss , test_loss))\n",
        "\n",
        "print(\"Fin. train loss: {}, \\tTEST loss: {}\".format(train_loss , test_loss))"
      ],
      "execution_count": 16,
      "outputs": [
        {
          "output_type": "stream",
          "text": [
            "Step 0/500, train loss: 289.1203918457031, \tTEST loss: 5333.37841796875\n",
            "Step 10/500, train loss: nan, \tTEST loss: nan\n",
            "Step 20/500, train loss: nan, \tTEST loss: nan\n",
            "Step 30/500, train loss: nan, \tTEST loss: nan\n",
            "Step 40/500, train loss: nan, \tTEST loss: nan\n",
            "Step 50/500, train loss: nan, \tTEST loss: nan\n",
            "Step 60/500, train loss: nan, \tTEST loss: nan\n",
            "Step 70/500, train loss: nan, \tTEST loss: nan\n",
            "Step 80/500, train loss: nan, \tTEST loss: nan\n",
            "Step 90/500, train loss: nan, \tTEST loss: nan\n",
            "Step 100/500, train loss: nan, \tTEST loss: nan\n",
            "Step 110/500, train loss: nan, \tTEST loss: nan\n",
            "Step 120/500, train loss: nan, \tTEST loss: nan\n",
            "Step 130/500, train loss: nan, \tTEST loss: nan\n",
            "Step 140/500, train loss: nan, \tTEST loss: nan\n",
            "Step 150/500, train loss: nan, \tTEST loss: nan\n",
            "Step 160/500, train loss: nan, \tTEST loss: nan\n",
            "Step 170/500, train loss: nan, \tTEST loss: nan\n",
            "Step 180/500, train loss: nan, \tTEST loss: nan\n",
            "Step 190/500, train loss: nan, \tTEST loss: nan\n",
            "Step 200/500, train loss: nan, \tTEST loss: nan\n",
            "Step 210/500, train loss: nan, \tTEST loss: nan\n",
            "Step 220/500, train loss: nan, \tTEST loss: nan\n",
            "Step 230/500, train loss: nan, \tTEST loss: nan\n",
            "Step 240/500, train loss: nan, \tTEST loss: nan\n",
            "Step 250/500, train loss: nan, \tTEST loss: nan\n",
            "Step 260/500, train loss: nan, \tTEST loss: nan\n",
            "Step 270/500, train loss: nan, \tTEST loss: nan\n",
            "Step 280/500, train loss: nan, \tTEST loss: nan\n",
            "Step 290/500, train loss: nan, \tTEST loss: nan\n",
            "Step 300/500, train loss: nan, \tTEST loss: nan\n",
            "Step 310/500, train loss: nan, \tTEST loss: nan\n",
            "Step 320/500, train loss: nan, \tTEST loss: nan\n",
            "Step 330/500, train loss: nan, \tTEST loss: nan\n",
            "Step 340/500, train loss: nan, \tTEST loss: nan\n",
            "Step 350/500, train loss: nan, \tTEST loss: nan\n",
            "Step 360/500, train loss: nan, \tTEST loss: nan\n",
            "Step 370/500, train loss: nan, \tTEST loss: nan\n",
            "Step 380/500, train loss: nan, \tTEST loss: nan\n",
            "Step 390/500, train loss: nan, \tTEST loss: nan\n",
            "Step 400/500, train loss: nan, \tTEST loss: nan\n",
            "Step 410/500, train loss: nan, \tTEST loss: nan\n",
            "Step 420/500, train loss: nan, \tTEST loss: nan\n",
            "Step 430/500, train loss: nan, \tTEST loss: nan\n",
            "Step 440/500, train loss: nan, \tTEST loss: nan\n",
            "Step 450/500, train loss: nan, \tTEST loss: nan\n",
            "Step 460/500, train loss: nan, \tTEST loss: nan\n",
            "Step 470/500, train loss: nan, \tTEST loss: nan\n",
            "Step 480/500, train loss: nan, \tTEST loss: nan\n",
            "Step 490/500, train loss: nan, \tTEST loss: nan\n",
            "Step 500/500, train loss: nan, \tTEST loss: nan\n",
            "Fin. train loss: nan, \tTEST loss: nan\n"
          ],
          "name": "stdout"
        }
      ]
    },
    {
      "cell_type": "markdown",
      "metadata": {
        "id": "UYztURk7tdZx",
        "colab_type": "text"
      },
      "source": [
        "**Results Visualization**"
      ]
    },
    {
      "cell_type": "markdown",
      "metadata": {
        "id": "RaNM30CXtdxk",
        "colab_type": "text"
      },
      "source": [
        "**Error dynamics in the training and test sample by iterations**"
      ]
    },
    {
      "cell_type": "code",
      "metadata": {
        "id": "oiQIoHSG9F6T",
        "colab_type": "code",
        "outputId": "2b1f88fb-fa51-4147-c23c-eb3cdfa5afe3",
        "colab": {
          "base_uri": "https://localhost:8080/",
          "height": 642
        }
      },
      "source": [
        "plt.figure(figsize=(12, 6))\n",
        "plt.plot( np.array(range(0, len(test_losses)))/float(len(test_losses)-1)*(len(train_losses)-1), np.log(test_losses), label=\"Test loss\")\n",
        "plt.plot(np.log(train_losses), label=\"Train loss\")\n",
        "\n",
        "plt.title(\" errors vs time (on a logarithmic scale)\") \n",
        "plt.xlabel('Iteration')\n",
        "plt.ylabel('log(Loss)') \n",
        "plt.legend(loc='3') \n",
        "plt.show()"
      ],
      "execution_count": 17,
      "outputs": [
        {
          "output_type": "stream",
          "text": [
            "/usr/local/lib/python3.6/dist-packages/ipykernel_launcher.py:8: MatplotlibDeprecationWarning: Unrecognized location '3'. Falling back on 'best'; valid locations are\n",
            "\tbest\n",
            "\tupper right\n",
            "\tupper left\n",
            "\tlower left\n",
            "\tlower right\n",
            "\tright\n",
            "\tcenter left\n",
            "\tcenter right\n",
            "\tlower center\n",
            "\tupper center\n",
            "\tcenter\n",
            "This will raise an exception in 3.3.\n",
            "  \n"
          ],
          "name": "stderr"
        },
        {
          "output_type": "display_data",
          "data": {
            "image/png": "[encoded data removed]",
            "text/plain": [
              "<Figure size 864x432 with 1 Axes>"
            ]
          },
          "metadata": {
            "tags": [],
            "needs_background": "light"
          }
        }
      ]
    },
    {
      "cell_type": "markdown",
      "metadata": {
        "id": "qay-jI60tsRy",
        "colab_type": "text"
      },
      "source": [
        "**Prediction Visualization**"
      ]
    },
    {
      "cell_type": "code",
      "metadata": {
        "id": "Cd0sno6c9F0q",
        "colab_type": "code",
        "outputId": "7692f0d2-e947-44bc-bd7a-23f22794e373",
        "colab": {
          "base_uri": "https://localhost:8080/",
          "height": 465
        }
      },
      "source": [
        "nb_predictions = 1\n",
        "print (\" Let 's visualize {} predictions with our signals :\". format (nb_predictions ))\n",
        "X, Y = generate_x_y_data( isTrain =False , batch_size = nb_predictions )\n",
        "feed_dict = { enc_inp [t]: X[t] for t in range ( seq_length )}\n",
        "outputs = np.array( sess.run([ reshaped_outputs ], feed_dict )[0])\n",
        "# выводим предсказания по каждому пакету\n",
        "for j in range ( nb_predictions ):\n",
        "    plt.figure( figsize =(12 , 3))\n",
        "    for k in range ( output_dim ):\n",
        "        past = X[:,j,k]\n",
        "        expected = Y[:,j,k]\n",
        "        pred = outputs [:,j,k]\n",
        "    label1 = \" Seen ( past ) values \" if k ==0 else \" _nolegend_ \"\n",
        "    label2 = \" True future values \" if k ==0 else \" _nolegend_ \"\n",
        "    label3 = \" Predictions \" if k ==0 else \" _nolegend_ \"\n",
        "    plt.plot(range(len(past)), past , \"o--b\", label = label1 )\n",
        "    plt.plot(range(len(past),len(expected)+len(past)), expected, \"x--b\", label = label2)\n",
        "    plt.plot(range(len(past),len(pred) + len (past)), pred , \"o--y\", label = label3 )\n",
        "    plt.legend( loc ='best ')\n",
        "    plt.title(\" Predictions v.s. true values \")\n",
        "    plt.show()"
      ],
      "execution_count": 19,
      "outputs": [
        {
          "output_type": "stream",
          "text": [
            " Let 's visualize 1 predictions with our signals :\n"
          ],
          "name": "stdout"
        },
        {
          "output_type": "stream",
          "text": [
            "/usr/local/lib/python3.6/dist-packages/ipykernel_launcher.py:19: MatplotlibDeprecationWarning: Unrecognized location 'best '. Falling back on 'best'; valid locations are\n",
            "\tbest\n",
            "\tupper right\n",
            "\tupper left\n",
            "\tlower left\n",
            "\tlower right\n",
            "\tright\n",
            "\tcenter left\n",
            "\tcenter right\n",
            "\tlower center\n",
            "\tupper center\n",
            "\tcenter\n",
            "This will raise an exception in 3.3.\n"
          ],
          "name": "stderr"
        },
        {
          "output_type": "display_data",
          "data": {
            "image/png": "[encoded data removed]",
            "text/plain": [
              "<Figure size 864x216 with 1 Axes>"
            ]
          },
          "metadata": {
            "tags": [],
            "needs_background": "light"
          }
        }
      ]
    }
  ]
}