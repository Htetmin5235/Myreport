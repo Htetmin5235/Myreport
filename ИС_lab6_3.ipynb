{
  "nbformat": 4,
  "nbformat_minor": 0,
  "metadata": {
    "colab": {
      "name": "ИС lab6_3.ipynb",
      "provenance": [],
      "collapsed_sections": [],
      "include_colab_link": true
    },
    "kernelspec": {
      "name": "python3",
      "display_name": "Python 3"
    }
  },
  "cells": [
    {
      "cell_type": "markdown",
      "metadata": {
        "id": "view-in-github",
        "colab_type": "text"
      },
      "source": [
        "<a href=\"https://colab.research.google.com/github/Htetmin5235/Myreport/blob/master/%D0%98%D0%A1_lab6_3.ipynb\" target=\"_parent\"><img src=\"https://colab.research.google.com/assets/colab-badge.svg\" alt=\"Open In Colab\"/></a>"
      ]
    },
    {
      "cell_type": "code",
      "metadata": {
        "id": "9Ezi0Im18w5B",
        "colab_type": "code",
        "outputId": "6c0dc533-6434-4e33-9fb5-f251561a7d01",
        "colab": {
          "base_uri": "https://localhost:8080/",
          "height": 34
        }
      },
      "source": [
        "%tensorflow_version 1.x"
      ],
      "execution_count": 2,
      "outputs": [
        {
          "output_type": "stream",
          "text": [
            "TensorFlow 1.x selected.\n"
          ],
          "name": "stdout"
        }
      ]
    },
    {
      "cell_type": "code",
      "metadata": {
        "id": "RAYfOzTU_-1M",
        "colab_type": "code",
        "colab": {}
      },
      "source": [
        "import numpy as np\n",
        "import random\n",
        "import math\n",
        "import tensorflow as tf\n",
        "import matplotlib.pyplot as plt"
      ],
      "execution_count": 0,
      "outputs": []
    },
    {
      "cell_type": "markdown",
      "metadata": {
        "id": "BYxc9ovVoPG3",
        "colab_type": "text"
      },
      "source": [
        "**Data generation**"
      ]
    },
    {
      "cell_type": "markdown",
      "metadata": {
        "id": "br_WB0mzoZv2",
        "colab_type": "text"
      },
      "source": [
        "**Generates two time series related to each other.**"
      ]
    },
    {
      "cell_type": "code",
      "metadata": {
        "id": "ZfD_IV3HZ7F2",
        "colab_type": "code",
        "colab": {}
      },
      "source": [
        "def generate_x_y_data_two_freqs(isTrain , batch_size , seq_length):\n",
        "    batch_x = [] \n",
        "    batch_y = []\n",
        "\n",
        "    for _ in range(batch_size):\n",
        "        offset_rand = random.random() * 2 * math.pi\n",
        "        freq_rand = (random.random() - 0.5) / 1.5 * 15 + 0.5\n",
        "        amp_rand = random.random() + 0.1\n",
        "        \n",
        "        sig1 = amp_rand * np.sin(np.linspace(\n",
        "            seq_length / 15.0 * freq_rand * 0.0 * math.pi + offset_rand,\n",
        "            seq_length / 15.0 * freq_rand * 3.0 * math.pi + offset_rand , seq_length * 2)\n",
        "        )\n",
        "        \n",
        "        offset_rand = random.random() * 2 * math.pi\n",
        "        freq_rand = (random.random() - 0.5) / 1.5 * 15 + 0.5\n",
        "        amp_rand = random.random() * 1.2\n",
        "        sig1 = amp_rand * np.cos(np.linspace(\n",
        "            seq_length / 15.0 * freq_rand * 0.0 * math.pi + offset_rand,\n",
        "            seq_length / 15.0 * freq_rand * 3.0 * math.pi + offset_rand , seq_length * 2)\n",
        "        ) + sig1\n",
        "        \n",
        "        x1 = sig1[:seq_length]\n",
        "        y1 = sig1[seq_length:]\n",
        "        x_ = np.array([x1])\n",
        "        y_ = np.array([y1])\n",
        "        x_, y_ = x_.T, y_.T\n",
        "        \n",
        "        batch_x.append(x_)\n",
        "        batch_y.append(y_)\n",
        "        \n",
        "    batch_x = np.array(batch_x)\n",
        "    batch_y = np.array(batch_y)\n",
        "    # размерность: (batch_size , seq_length , output_dim)\n",
        "    batch_x = np.array(batch_x).transpose((1, 0, 2))\n",
        "    batch_y = np.array(batch_y).transpose((1, 0, 2))\n",
        "    # размерность: (seq_length , batch_size , output_dim)\n",
        "\n",
        "    return batch_x , batch_y"
      ],
      "execution_count": 0,
      "outputs": []
    },
    {
      "cell_type": "code",
      "metadata": {
        "id": "6fWnmGXfa_Dv",
        "colab_type": "code",
        "colab": {}
      },
      "source": [
        "def generate_x_y_data_v3(isTrain , batch_size): \n",
        "  seq_length = 30 \n",
        "  x, y = generate_x_y_data_two_freqs( isTrain , batch_size , seq_length=seq_length) \n",
        "  noise_amount = random.random() * 0.15 + 0.10\n",
        "  x = x + noise_amount * np.random.randn(seq_length , batch_size , 1)\n",
        "  avg = np.average(x) \n",
        "  std = np.std(x) + 0.0001\n",
        "  x = x - avg \n",
        "  y = y - avg \n",
        "  x = x / std / 2.5 \n",
        "  y = y / std / 2.5\n",
        "\n",
        "  return x, y"
      ],
      "execution_count": 0,
      "outputs": []
    },
    {
      "cell_type": "code",
      "metadata": {
        "id": "_4lMC7B3a_h7",
        "colab_type": "code",
        "colab": {}
      },
      "source": [
        "def generate_x_y_data(isTrain, batch_size):\n",
        "    return generate_x_y_data_v3(isTrain, batch_size)"
      ],
      "execution_count": 0,
      "outputs": []
    },
    {
      "cell_type": "markdown",
      "metadata": {
        "id": "Kryo4X0YqNiC",
        "colab_type": "text"
      },
      "source": [
        "**Parameter Definition Neural Network**"
      ]
    },
    {
      "cell_type": "code",
      "metadata": {
        "id": "6jjpUSLC924R",
        "colab_type": "code",
        "colab": {}
      },
      "source": [
        "# Данные имеют размерность (seq_length , batch_size , output_dim) \n",
        "sample_x , sample_y = generate_x_y_data(isTrain=True , batch_size=3)\n",
        "\n",
        "# Длина последовательности (в данных примерах одинаковая для обучающих и тестовых данных)\n",
        "seq_length = sample_x.shape[0] \n",
        "\n",
        "# Размер пакета количество(тестовых примеров), по которому усредняется градиент\n",
        "batch_size = 100\n",
        "# Размерность выходных данных \n",
        "output_dim = input_dim = sample_x.shape[-1]\n",
        "# Количество скрытых нейронов в каждой ячейке\n",
        "hidden_dim = 50\n",
        "# Количество ячеек рекуррентной сети (в глубину)\n",
        "layers_stacked_count = 1\n",
        "\n",
        "# Параметры оптимизатора \n",
        "# Скорость обучения маленькая (скорость обучения позволяет алгоритму не расходиться во время обучения)\n",
        "learning_rate = 0.5\n",
        "# Количество итераций по обучающей выборке \n",
        "nb_iters = 5000\n",
        "# Дополнительные параметры алгоритма оптимизации\n",
        "lr_decay = 0.3\n",
        "momentum = 0.9\n",
        "# Коэффициент L2 регуляризации\n",
        "lambda_l2_reg = 1e-10"
      ],
      "execution_count": 0,
      "outputs": []
    },
    {
      "cell_type": "markdown",
      "metadata": {
        "id": "vGcKbosKqXcm",
        "colab_type": "text"
      },
      "source": [
        "**Description of Computing Graph**"
      ]
    },
    {
      "cell_type": "code",
      "metadata": {
        "id": "6z5e_fEe9FpG",
        "colab_type": "code",
        "outputId": "5267f4aa-a09e-4aeb-e346-fe401d0b4f50",
        "colab": {
          "base_uri": "https://localhost:8080/",
          "height": 153
        }
      },
      "source": [
        "tf.nn.seq2seq = tf.contrib.legacy_seq2seq\n",
        "tf.nn.rnn_cell = tf.contrib.rnn\n",
        "tf.nn.rnn_cell.GRUCell = tf.contrib.rnn.GRUCell"
      ],
      "execution_count": 8,
      "outputs": [
        {
          "output_type": "stream",
          "text": [
            "WARNING:tensorflow:\n",
            "The TensorFlow contrib module will not be included in TensorFlow 2.0.\n",
            "For more information, please see:\n",
            "  * https://github.com/tensorflow/community/blob/master/rfcs/20180907-contrib-sunset.md\n",
            "  * https://github.com/tensorflow/addons\n",
            "  * https://github.com/tensorflow/io (for I/O related ops)\n",
            "If you depend on functionality not listed there, please file an issue.\n",
            "\n"
          ],
          "name": "stdout"
        }
      ]
    },
    {
      "cell_type": "code",
      "metadata": {
        "id": "a2fz5s1Yq_LM",
        "colab_type": "code",
        "colab": {}
      },
      "source": [
        "tf.reset_default_graph()\n",
        "# интерактивная сессия\n",
        "sess = tf.InteractiveSession()"
      ],
      "execution_count": 0,
      "outputs": []
    },
    {
      "cell_type": "code",
      "metadata": {
        "id": "yMBw0_It9FvQ",
        "colab_type": "code",
        "outputId": "3ff63f77-5cb2-406f-9a11-e0ea1f3feb87",
        "colab": {
          "base_uri": "https://localhost:8080/",
          "height": 343
        }
      },
      "source": [
        "with tf.variable_scope('Seq2seq'):\n",
        "    enc_inp = [\n",
        "        tf.placeholder(tf.float32, shape=(None, input_dim), name=\"inp_{}\".format(t))\n",
        "            for t in range(seq_length)\n",
        "    ]\n",
        "\n",
        "    expected_sparse_output = [\n",
        "        tf.placeholder(tf.float32 , shape=(None , output_dim), name=\"expected_sparse_output_\".format(t))\n",
        "            for t in range(seq_length)\n",
        "    ]\n",
        "    \n",
        "    dec_inp = [ tf.zeros_like(enc_inp[0], dtype=np.float32 , name=\"GO\") ] + enc_inp[:-1]\n",
        "    \n",
        "    cells = []\n",
        "    for i in range(layers_stacked_count):\n",
        "        with tf.variable_scope('RNN_{}'.format(i)):\n",
        "            cells.append(tf.nn.rnn_cell.GRUCell(hidden_dim))\n",
        "            \n",
        "    cell = tf.nn.rnn_cell.MultiRNNCell(cells)\n",
        "    \n",
        "    w_in = tf.Variable(tf.random_normal([input_dim , hidden_dim]))\n",
        "    b_in = tf.Variable(tf.random_normal([hidden_dim], mean=1.0))\n",
        "    w_out = tf.Variable(tf.random_normal([hidden_dim , output_dim]))\n",
        "    b_out = tf.Variable(tf.random_normal([output_dim]))\n",
        "\n",
        "    reshaped_inputs = [tf.nn.relu(tf.matmul(i, w_in) + b_in) for i in enc_inp]\n",
        "    \n",
        "    dec_outputs, dec_memory = tf.nn.seq2seq.basic_rnn_seq2seq(enc_inp, dec_inp, cell)\n",
        "    \n",
        "    output_scale_factor = tf.Variable(1.0, name=\"Output_ScaleFactor\")\n",
        "    reshaped_outputs = [output_scale_factor * (tf.matmul(i, w_out) + b_out) for i in dec_outputs]"
      ],
      "execution_count": 10,
      "outputs": [
        {
          "output_type": "stream",
          "text": [
            "WARNING:tensorflow:From <ipython-input-10-a9e263b0cf24>:17: GRUCell.__init__ (from tensorflow.python.ops.rnn_cell_impl) is deprecated and will be removed in a future version.\n",
            "Instructions for updating:\n",
            "This class is equivalent as tf.keras.layers.GRUCell, and will be replaced by that in Tensorflow 2.0.\n",
            "WARNING:tensorflow:From <ipython-input-10-a9e263b0cf24>:19: MultiRNNCell.__init__ (from tensorflow.python.ops.rnn_cell_impl) is deprecated and will be removed in a future version.\n",
            "Instructions for updating:\n",
            "This class is equivalent as tf.keras.layers.StackedRNNCells, and will be replaced by that in Tensorflow 2.0.\n",
            "WARNING:tensorflow:From /tensorflow-1.15.2/python3.6/tensorflow_core/contrib/legacy_seq2seq/python/ops/seq2seq.py:186: static_rnn (from tensorflow.python.ops.rnn) is deprecated and will be removed in a future version.\n",
            "Instructions for updating:\n",
            "Please use `keras.layers.RNN(cell, unroll=True)`, which is equivalent to this API\n",
            "WARNING:tensorflow:From /tensorflow-1.15.2/python3.6/tensorflow_core/python/ops/rnn_cell_impl.py:559: Layer.add_variable (from tensorflow.python.keras.engine.base_layer) is deprecated and will be removed in a future version.\n",
            "Instructions for updating:\n",
            "Please use `layer.add_weight` method instead.\n",
            "WARNING:tensorflow:From /tensorflow-1.15.2/python3.6/tensorflow_core/python/ops/rnn_cell_impl.py:565: calling Constant.__init__ (from tensorflow.python.ops.init_ops) with dtype is deprecated and will be removed in a future version.\n",
            "Instructions for updating:\n",
            "Call initializer instance with the dtype argument instead of passing it to the constructor\n",
            "WARNING:tensorflow:From /tensorflow-1.15.2/python3.6/tensorflow_core/python/ops/rnn_cell_impl.py:575: calling Zeros.__init__ (from tensorflow.python.ops.init_ops) with dtype is deprecated and will be removed in a future version.\n",
            "Instructions for updating:\n",
            "Call initializer instance with the dtype argument instead of passing it to the constructor\n"
          ],
          "name": "stdout"
        }
      ]
    },
    {
      "cell_type": "markdown",
      "metadata": {
        "id": "I2zJDGUutOZE",
        "colab_type": "text"
      },
      "source": [
        "**Description of loss function and optimizer**"
      ]
    },
    {
      "cell_type": "code",
      "metadata": {
        "id": "FtsXiyQNrsNm",
        "colab_type": "code",
        "colab": {}
      },
      "source": [
        "with tf.variable_scope('Loss'):\n",
        "    # L2 loss\n",
        "    output_loss = 0\n",
        "    for _y, _Y in zip(reshaped_outputs, expected_sparse_output):\n",
        "        output_loss += tf.reduce_mean(tf.nn.l2_loss(_y - _Y))\n",
        "\n",
        "    # слагаемое, отвечающее за L2 регуляризацию\n",
        "    reg_loss = 0\n",
        "    for tf_var in tf.trainable_variables():\n",
        "        if not (\"Bias\" in tf_var.name or \"Output_\" in tf_var.name):\n",
        "            reg_loss += tf.reduce_mean(tf.nn.l2_loss(tf_var))\n",
        "\n",
        "    loss = output_loss  + lambda_l2_reg * reg_loss"
      ],
      "execution_count": 0,
      "outputs": []
    },
    {
      "cell_type": "code",
      "metadata": {
        "id": "HLPRAys7rzty",
        "colab_type": "code",
        "outputId": "c4a15132-380e-4ecf-ee07-3b3950c55c1a",
        "colab": {
          "base_uri": "https://localhost:8080/",
          "height": 88
        }
      },
      "source": [
        "with tf.variable_scope('Optimizer'):\n",
        "    optimizer = tf.train.RMSPropOptimizer(learning_rate, decay=lr_decay, momentum=momentum)\n",
        "    train_op = optimizer.minimize(loss)"
      ],
      "execution_count": 12,
      "outputs": [
        {
          "output_type": "stream",
          "text": [
            "WARNING:tensorflow:From /tensorflow-1.15.2/python3.6/tensorflow_core/python/training/rmsprop.py:119: calling Ones.__init__ (from tensorflow.python.ops.init_ops) with dtype is deprecated and will be removed in a future version.\n",
            "Instructions for updating:\n",
            "Call initializer instance with the dtype argument instead of passing it to the constructor\n"
          ],
          "name": "stdout"
        }
      ]
    },
    {
      "cell_type": "code",
      "metadata": {
        "id": "8sh6_5on9F2Q",
        "colab_type": "code",
        "colab": {}
      },
      "source": [
        "# Шаг обучения, который оптимизирует веса в соответствии с переданным минипакетом-примеров\n",
        "def train_batch(batch_size):\n",
        "    X, Y = generate_x_y_data(isTrain=True , batch_size=batch_size)\n",
        "    feed_dict = {enc_inp[t]: X[t] for t in range(len(enc_inp))} \n",
        "    feed_dict.update({expected_sparse_output[t]: Y[t] for t in range(len(expected_sparse_output))}) \n",
        "    #  запускаем сессию. При этом рассчитываются тензоры, указанные в первом параметре, \n",
        "    # а значения для них берутся из второго параметра\n",
        "    _, loss_t = sess.run([train_op , loss], feed_dict)\n",
        "    \n",
        "    return loss_t"
      ],
      "execution_count": 0,
      "outputs": []
    },
    {
      "cell_type": "markdown",
      "metadata": {
        "id": "Kqd-VgastE9J",
        "colab_type": "text"
      },
      "source": [
        "**Training and validation Neural Network**"
      ]
    },
    {
      "cell_type": "code",
      "metadata": {
        "id": "BOa8fdVv9F77",
        "colab_type": "code",
        "outputId": "6ba2885f-47ba-4695-d0a2-3fd8a61b3079",
        "colab": {
          "base_uri": "https://localhost:8080/",
          "height": 1000
        }
      },
      "source": [
        "# Тестовый прогон. Веса не обновляются благодаря тому, что переменная train_op не передается в sess.run\n",
        "def test_batch(batch_size, graph=False): \n",
        "    X, Y = generate_x_y_data(isTrain=False, batch_size=batch_size)\n",
        "    feed_dict = {enc_inp[t]: X[t] for t in range(len(enc_inp))}\n",
        "    feed_dict.update({expected_sparse_output[t]: Y[t] for t in range(len(expected_sparse_output))}) \n",
        "    loss_t = sess.run([loss], feed_dict)\n",
        "    \n",
        "    return loss_t[0]\n",
        "\n",
        "train_losses = []\n",
        "test_losses = []\n",
        "sess.run(tf.global_variables_initializer())\n",
        "\n",
        "#nb_iters - количество шагов для обучения. После каждых 10 шагов проверяется ошибка на тестовой выборке\n",
        "\n",
        "for t in range(nb_iters+1):\n",
        "    train_loss = train_batch(batch_size)\n",
        "    train_losses.append(train_loss)\n",
        "\n",
        "    if t % 10 == 0:\n",
        "        test_loss = test_batch(batch_size, t==nb_iters)\n",
        "        test_losses.append(test_loss)\n",
        "        print(\"Step {}/{}, train loss: {}, \\tTEST loss: {}\".format(t, nb_iters , train_loss , test_loss))\n",
        "\n",
        "print(\"Fin. train loss: {}, \\tTEST loss: {}\".format(train_loss , test_loss))"
      ],
      "execution_count": 14,
      "outputs": [
        {
          "output_type": "stream",
          "text": [
            "Step 0/5000, train loss: 357.4646911621094, \tTEST loss: 79246.4453125\n",
            "Step 10/5000, train loss: 116799.6875, \tTEST loss: 2625.16162109375\n",
            "Step 20/5000, train loss: 11847.4345703125, \tTEST loss: nan\n",
            "Step 30/5000, train loss: nan, \tTEST loss: nan\n",
            "Step 40/5000, train loss: nan, \tTEST loss: nan\n",
            "Step 50/5000, train loss: nan, \tTEST loss: nan\n",
            "Step 60/5000, train loss: nan, \tTEST loss: nan\n",
            "Step 70/5000, train loss: nan, \tTEST loss: nan\n",
            "Step 80/5000, train loss: nan, \tTEST loss: nan\n",
            "Step 90/5000, train loss: nan, \tTEST loss: nan\n",
            "Step 100/5000, train loss: nan, \tTEST loss: nan\n",
            "Step 110/5000, train loss: nan, \tTEST loss: nan\n",
            "Step 120/5000, train loss: nan, \tTEST loss: nan\n",
            "Step 130/5000, train loss: nan, \tTEST loss: nan\n",
            "Step 140/5000, train loss: nan, \tTEST loss: nan\n",
            "Step 150/5000, train loss: nan, \tTEST loss: nan\n",
            "Step 160/5000, train loss: nan, \tTEST loss: nan\n",
            "Step 170/5000, train loss: nan, \tTEST loss: nan\n",
            "Step 180/5000, train loss: nan, \tTEST loss: nan\n",
            "Step 190/5000, train loss: nan, \tTEST loss: nan\n",
            "Step 200/5000, train loss: nan, \tTEST loss: nan\n",
            "Step 210/5000, train loss: nan, \tTEST loss: nan\n",
            "Step 220/5000, train loss: nan, \tTEST loss: nan\n",
            "Step 230/5000, train loss: nan, \tTEST loss: nan\n",
            "Step 240/5000, train loss: nan, \tTEST loss: nan\n",
            "Step 250/5000, train loss: nan, \tTEST loss: nan\n",
            "Step 260/5000, train loss: nan, \tTEST loss: nan\n",
            "Step 270/5000, train loss: nan, \tTEST loss: nan\n",
            "Step 280/5000, train loss: nan, \tTEST loss: nan\n",
            "Step 290/5000, train loss: nan, \tTEST loss: nan\n",
            "Step 300/5000, train loss: nan, \tTEST loss: nan\n",
            "Step 310/5000, train loss: nan, \tTEST loss: nan\n",
            "Step 320/5000, train loss: nan, \tTEST loss: nan\n",
            "Step 330/5000, train loss: nan, \tTEST loss: nan\n",
            "Step 340/5000, train loss: nan, \tTEST loss: nan\n",
            "Step 350/5000, train loss: nan, \tTEST loss: nan\n",
            "Step 360/5000, train loss: nan, \tTEST loss: nan\n",
            "Step 370/5000, train loss: nan, \tTEST loss: nan\n",
            "Step 380/5000, train loss: nan, \tTEST loss: nan\n",
            "Step 390/5000, train loss: nan, \tTEST loss: nan\n",
            "Step 400/5000, train loss: nan, \tTEST loss: nan\n",
            "Step 410/5000, train loss: nan, \tTEST loss: nan\n",
            "Step 420/5000, train loss: nan, \tTEST loss: nan\n",
            "Step 430/5000, train loss: nan, \tTEST loss: nan\n",
            "Step 440/5000, train loss: nan, \tTEST loss: nan\n",
            "Step 450/5000, train loss: nan, \tTEST loss: nan\n",
            "Step 460/5000, train loss: nan, \tTEST loss: nan\n",
            "Step 470/5000, train loss: nan, \tTEST loss: nan\n",
            "Step 480/5000, train loss: nan, \tTEST loss: nan\n",
            "Step 490/5000, train loss: nan, \tTEST loss: nan\n",
            "Step 500/5000, train loss: nan, \tTEST loss: nan\n",
            "Step 510/5000, train loss: nan, \tTEST loss: nan\n",
            "Step 520/5000, train loss: nan, \tTEST loss: nan\n",
            "Step 530/5000, train loss: nan, \tTEST loss: nan\n",
            "Step 540/5000, train loss: nan, \tTEST loss: nan\n",
            "Step 550/5000, train loss: nan, \tTEST loss: nan\n",
            "Step 560/5000, train loss: nan, \tTEST loss: nan\n",
            "Step 570/5000, train loss: nan, \tTEST loss: nan\n",
            "Step 580/5000, train loss: nan, \tTEST loss: nan\n",
            "Step 590/5000, train loss: nan, \tTEST loss: nan\n",
            "Step 600/5000, train loss: nan, \tTEST loss: nan\n",
            "Step 610/5000, train loss: nan, \tTEST loss: nan\n",
            "Step 620/5000, train loss: nan, \tTEST loss: nan\n",
            "Step 630/5000, train loss: nan, \tTEST loss: nan\n",
            "Step 640/5000, train loss: nan, \tTEST loss: nan\n",
            "Step 650/5000, train loss: nan, \tTEST loss: nan\n",
            "Step 660/5000, train loss: nan, \tTEST loss: nan\n",
            "Step 670/5000, train loss: nan, \tTEST loss: nan\n",
            "Step 680/5000, train loss: nan, \tTEST loss: nan\n",
            "Step 690/5000, train loss: nan, \tTEST loss: nan\n",
            "Step 700/5000, train loss: nan, \tTEST loss: nan\n",
            "Step 710/5000, train loss: nan, \tTEST loss: nan\n",
            "Step 720/5000, train loss: nan, \tTEST loss: nan\n",
            "Step 730/5000, train loss: nan, \tTEST loss: nan\n",
            "Step 740/5000, train loss: nan, \tTEST loss: nan\n",
            "Step 750/5000, train loss: nan, \tTEST loss: nan\n",
            "Step 760/5000, train loss: nan, \tTEST loss: nan\n",
            "Step 770/5000, train loss: nan, \tTEST loss: nan\n",
            "Step 780/5000, train loss: nan, \tTEST loss: nan\n",
            "Step 790/5000, train loss: nan, \tTEST loss: nan\n",
            "Step 800/5000, train loss: nan, \tTEST loss: nan\n",
            "Step 810/5000, train loss: nan, \tTEST loss: nan\n",
            "Step 820/5000, train loss: nan, \tTEST loss: nan\n",
            "Step 830/5000, train loss: nan, \tTEST loss: nan\n",
            "Step 840/5000, train loss: nan, \tTEST loss: nan\n",
            "Step 850/5000, train loss: nan, \tTEST loss: nan\n",
            "Step 860/5000, train loss: nan, \tTEST loss: nan\n",
            "Step 870/5000, train loss: nan, \tTEST loss: nan\n",
            "Step 880/5000, train loss: nan, \tTEST loss: nan\n",
            "Step 890/5000, train loss: nan, \tTEST loss: nan\n",
            "Step 900/5000, train loss: nan, \tTEST loss: nan\n",
            "Step 910/5000, train loss: nan, \tTEST loss: nan\n",
            "Step 920/5000, train loss: nan, \tTEST loss: nan\n",
            "Step 930/5000, train loss: nan, \tTEST loss: nan\n",
            "Step 940/5000, train loss: nan, \tTEST loss: nan\n",
            "Step 950/5000, train loss: nan, \tTEST loss: nan\n",
            "Step 960/5000, train loss: nan, \tTEST loss: nan\n",
            "Step 970/5000, train loss: nan, \tTEST loss: nan\n",
            "Step 980/5000, train loss: nan, \tTEST loss: nan\n",
            "Step 990/5000, train loss: nan, \tTEST loss: nan\n",
            "Step 1000/5000, train loss: nan, \tTEST loss: nan\n",
            "Step 1010/5000, train loss: nan, \tTEST loss: nan\n",
            "Step 1020/5000, train loss: nan, \tTEST loss: nan\n",
            "Step 1030/5000, train loss: nan, \tTEST loss: nan\n",
            "Step 1040/5000, train loss: nan, \tTEST loss: nan\n",
            "Step 1050/5000, train loss: nan, \tTEST loss: nan\n",
            "Step 1060/5000, train loss: nan, \tTEST loss: nan\n",
            "Step 1070/5000, train loss: nan, \tTEST loss: nan\n",
            "Step 1080/5000, train loss: nan, \tTEST loss: nan\n",
            "Step 1090/5000, train loss: nan, \tTEST loss: nan\n",
            "Step 1100/5000, train loss: nan, \tTEST loss: nan\n",
            "Step 1110/5000, train loss: nan, \tTEST loss: nan\n",
            "Step 1120/5000, train loss: nan, \tTEST loss: nan\n",
            "Step 1130/5000, train loss: nan, \tTEST loss: nan\n",
            "Step 1140/5000, train loss: nan, \tTEST loss: nan\n",
            "Step 1150/5000, train loss: nan, \tTEST loss: nan\n",
            "Step 1160/5000, train loss: nan, \tTEST loss: nan\n",
            "Step 1170/5000, train loss: nan, \tTEST loss: nan\n",
            "Step 1180/5000, train loss: nan, \tTEST loss: nan\n",
            "Step 1190/5000, train loss: nan, \tTEST loss: nan\n",
            "Step 1200/5000, train loss: nan, \tTEST loss: nan\n",
            "Step 1210/5000, train loss: nan, \tTEST loss: nan\n",
            "Step 1220/5000, train loss: nan, \tTEST loss: nan\n",
            "Step 1230/5000, train loss: nan, \tTEST loss: nan\n",
            "Step 1240/5000, train loss: nan, \tTEST loss: nan\n",
            "Step 1250/5000, train loss: nan, \tTEST loss: nan\n",
            "Step 1260/5000, train loss: nan, \tTEST loss: nan\n",
            "Step 1270/5000, train loss: nan, \tTEST loss: nan\n",
            "Step 1280/5000, train loss: nan, \tTEST loss: nan\n",
            "Step 1290/5000, train loss: nan, \tTEST loss: nan\n",
            "Step 1300/5000, train loss: nan, \tTEST loss: nan\n",
            "Step 1310/5000, train loss: nan, \tTEST loss: nan\n",
            "Step 1320/5000, train loss: nan, \tTEST loss: nan\n",
            "Step 1330/5000, train loss: nan, \tTEST loss: nan\n",
            "Step 1340/5000, train loss: nan, \tTEST loss: nan\n",
            "Step 1350/5000, train loss: nan, \tTEST loss: nan\n",
            "Step 1360/5000, train loss: nan, \tTEST loss: nan\n",
            "Step 1370/5000, train loss: nan, \tTEST loss: nan\n",
            "Step 1380/5000, train loss: nan, \tTEST loss: nan\n",
            "Step 1390/5000, train loss: nan, \tTEST loss: nan\n",
            "Step 1400/5000, train loss: nan, \tTEST loss: nan\n",
            "Step 1410/5000, train loss: nan, \tTEST loss: nan\n",
            "Step 1420/5000, train loss: nan, \tTEST loss: nan\n",
            "Step 1430/5000, train loss: nan, \tTEST loss: nan\n",
            "Step 1440/5000, train loss: nan, \tTEST loss: nan\n",
            "Step 1450/5000, train loss: nan, \tTEST loss: nan\n",
            "Step 1460/5000, train loss: nan, \tTEST loss: nan\n",
            "Step 1470/5000, train loss: nan, \tTEST loss: nan\n",
            "Step 1480/5000, train loss: nan, \tTEST loss: nan\n",
            "Step 1490/5000, train loss: nan, \tTEST loss: nan\n",
            "Step 1500/5000, train loss: nan, \tTEST loss: nan\n",
            "Step 1510/5000, train loss: nan, \tTEST loss: nan\n",
            "Step 1520/5000, train loss: nan, \tTEST loss: nan\n",
            "Step 1530/5000, train loss: nan, \tTEST loss: nan\n",
            "Step 1540/5000, train loss: nan, \tTEST loss: nan\n",
            "Step 1550/5000, train loss: nan, \tTEST loss: nan\n",
            "Step 1560/5000, train loss: nan, \tTEST loss: nan\n",
            "Step 1570/5000, train loss: nan, \tTEST loss: nan\n",
            "Step 1580/5000, train loss: nan, \tTEST loss: nan\n",
            "Step 1590/5000, train loss: nan, \tTEST loss: nan\n",
            "Step 1600/5000, train loss: nan, \tTEST loss: nan\n",
            "Step 1610/5000, train loss: nan, \tTEST loss: nan\n",
            "Step 1620/5000, train loss: nan, \tTEST loss: nan\n",
            "Step 1630/5000, train loss: nan, \tTEST loss: nan\n",
            "Step 1640/5000, train loss: nan, \tTEST loss: nan\n",
            "Step 1650/5000, train loss: nan, \tTEST loss: nan\n",
            "Step 1660/5000, train loss: nan, \tTEST loss: nan\n",
            "Step 1670/5000, train loss: nan, \tTEST loss: nan\n",
            "Step 1680/5000, train loss: nan, \tTEST loss: nan\n",
            "Step 1690/5000, train loss: nan, \tTEST loss: nan\n",
            "Step 1700/5000, train loss: nan, \tTEST loss: nan\n",
            "Step 1710/5000, train loss: nan, \tTEST loss: nan\n",
            "Step 1720/5000, train loss: nan, \tTEST loss: nan\n",
            "Step 1730/5000, train loss: nan, \tTEST loss: nan\n",
            "Step 1740/5000, train loss: nan, \tTEST loss: nan\n",
            "Step 1750/5000, train loss: nan, \tTEST loss: nan\n",
            "Step 1760/5000, train loss: nan, \tTEST loss: nan\n",
            "Step 1770/5000, train loss: nan, \tTEST loss: nan\n",
            "Step 1780/5000, train loss: nan, \tTEST loss: nan\n",
            "Step 1790/5000, train loss: nan, \tTEST loss: nan\n",
            "Step 1800/5000, train loss: nan, \tTEST loss: nan\n",
            "Step 1810/5000, train loss: nan, \tTEST loss: nan\n",
            "Step 1820/5000, train loss: nan, \tTEST loss: nan\n",
            "Step 1830/5000, train loss: nan, \tTEST loss: nan\n",
            "Step 1840/5000, train loss: nan, \tTEST loss: nan\n",
            "Step 1850/5000, train loss: nan, \tTEST loss: nan\n",
            "Step 1860/5000, train loss: nan, \tTEST loss: nan\n",
            "Step 1870/5000, train loss: nan, \tTEST loss: nan\n",
            "Step 1880/5000, train loss: nan, \tTEST loss: nan\n",
            "Step 1890/5000, train loss: nan, \tTEST loss: nan\n",
            "Step 1900/5000, train loss: nan, \tTEST loss: nan\n",
            "Step 1910/5000, train loss: nan, \tTEST loss: nan\n",
            "Step 1920/5000, train loss: nan, \tTEST loss: nan\n",
            "Step 1930/5000, train loss: nan, \tTEST loss: nan\n",
            "Step 1940/5000, train loss: nan, \tTEST loss: nan\n",
            "Step 1950/5000, train loss: nan, \tTEST loss: nan\n",
            "Step 1960/5000, train loss: nan, \tTEST loss: nan\n",
            "Step 1970/5000, train loss: nan, \tTEST loss: nan\n",
            "Step 1980/5000, train loss: nan, \tTEST loss: nan\n",
            "Step 1990/5000, train loss: nan, \tTEST loss: nan\n",
            "Step 2000/5000, train loss: nan, \tTEST loss: nan\n",
            "Step 2010/5000, train loss: nan, \tTEST loss: nan\n",
            "Step 2020/5000, train loss: nan, \tTEST loss: nan\n",
            "Step 2030/5000, train loss: nan, \tTEST loss: nan\n",
            "Step 2040/5000, train loss: nan, \tTEST loss: nan\n",
            "Step 2050/5000, train loss: nan, \tTEST loss: nan\n",
            "Step 2060/5000, train loss: nan, \tTEST loss: nan\n",
            "Step 2070/5000, train loss: nan, \tTEST loss: nan\n",
            "Step 2080/5000, train loss: nan, \tTEST loss: nan\n",
            "Step 2090/5000, train loss: nan, \tTEST loss: nan\n",
            "Step 2100/5000, train loss: nan, \tTEST loss: nan\n",
            "Step 2110/5000, train loss: nan, \tTEST loss: nan\n",
            "Step 2120/5000, train loss: nan, \tTEST loss: nan\n",
            "Step 2130/5000, train loss: nan, \tTEST loss: nan\n",
            "Step 2140/5000, train loss: nan, \tTEST loss: nan\n",
            "Step 2150/5000, train loss: nan, \tTEST loss: nan\n",
            "Step 2160/5000, train loss: nan, \tTEST loss: nan\n",
            "Step 2170/5000, train loss: nan, \tTEST loss: nan\n",
            "Step 2180/5000, train loss: nan, \tTEST loss: nan\n",
            "Step 2190/5000, train loss: nan, \tTEST loss: nan\n",
            "Step 2200/5000, train loss: nan, \tTEST loss: nan\n",
            "Step 2210/5000, train loss: nan, \tTEST loss: nan\n",
            "Step 2220/5000, train loss: nan, \tTEST loss: nan\n",
            "Step 2230/5000, train loss: nan, \tTEST loss: nan\n",
            "Step 2240/5000, train loss: nan, \tTEST loss: nan\n",
            "Step 2250/5000, train loss: nan, \tTEST loss: nan\n",
            "Step 2260/5000, train loss: nan, \tTEST loss: nan\n",
            "Step 2270/5000, train loss: nan, \tTEST loss: nan\n",
            "Step 2280/5000, train loss: nan, \tTEST loss: nan\n",
            "Step 2290/5000, train loss: nan, \tTEST loss: nan\n",
            "Step 2300/5000, train loss: nan, \tTEST loss: nan\n",
            "Step 2310/5000, train loss: nan, \tTEST loss: nan\n",
            "Step 2320/5000, train loss: nan, \tTEST loss: nan\n",
            "Step 2330/5000, train loss: nan, \tTEST loss: nan\n",
            "Step 2340/5000, train loss: nan, \tTEST loss: nan\n",
            "Step 2350/5000, train loss: nan, \tTEST loss: nan\n",
            "Step 2360/5000, train loss: nan, \tTEST loss: nan\n",
            "Step 2370/5000, train loss: nan, \tTEST loss: nan\n",
            "Step 2380/5000, train loss: nan, \tTEST loss: nan\n",
            "Step 2390/5000, train loss: nan, \tTEST loss: nan\n",
            "Step 2400/5000, train loss: nan, \tTEST loss: nan\n",
            "Step 2410/5000, train loss: nan, \tTEST loss: nan\n",
            "Step 2420/5000, train loss: nan, \tTEST loss: nan\n",
            "Step 2430/5000, train loss: nan, \tTEST loss: nan\n",
            "Step 2440/5000, train loss: nan, \tTEST loss: nan\n",
            "Step 2450/5000, train loss: nan, \tTEST loss: nan\n",
            "Step 2460/5000, train loss: nan, \tTEST loss: nan\n",
            "Step 2470/5000, train loss: nan, \tTEST loss: nan\n",
            "Step 2480/5000, train loss: nan, \tTEST loss: nan\n",
            "Step 2490/5000, train loss: nan, \tTEST loss: nan\n",
            "Step 2500/5000, train loss: nan, \tTEST loss: nan\n",
            "Step 2510/5000, train loss: nan, \tTEST loss: nan\n",
            "Step 2520/5000, train loss: nan, \tTEST loss: nan\n",
            "Step 2530/5000, train loss: nan, \tTEST loss: nan\n",
            "Step 2540/5000, train loss: nan, \tTEST loss: nan\n",
            "Step 2550/5000, train loss: nan, \tTEST loss: nan\n",
            "Step 2560/5000, train loss: nan, \tTEST loss: nan\n",
            "Step 2570/5000, train loss: nan, \tTEST loss: nan\n",
            "Step 2580/5000, train loss: nan, \tTEST loss: nan\n",
            "Step 2590/5000, train loss: nan, \tTEST loss: nan\n",
            "Step 2600/5000, train loss: nan, \tTEST loss: nan\n",
            "Step 2610/5000, train loss: nan, \tTEST loss: nan\n",
            "Step 2620/5000, train loss: nan, \tTEST loss: nan\n",
            "Step 2630/5000, train loss: nan, \tTEST loss: nan\n",
            "Step 2640/5000, train loss: nan, \tTEST loss: nan\n",
            "Step 2650/5000, train loss: nan, \tTEST loss: nan\n",
            "Step 2660/5000, train loss: nan, \tTEST loss: nan\n",
            "Step 2670/5000, train loss: nan, \tTEST loss: nan\n",
            "Step 2680/5000, train loss: nan, \tTEST loss: nan\n",
            "Step 2690/5000, train loss: nan, \tTEST loss: nan\n",
            "Step 2700/5000, train loss: nan, \tTEST loss: nan\n",
            "Step 2710/5000, train loss: nan, \tTEST loss: nan\n",
            "Step 2720/5000, train loss: nan, \tTEST loss: nan\n",
            "Step 2730/5000, train loss: nan, \tTEST loss: nan\n",
            "Step 2740/5000, train loss: nan, \tTEST loss: nan\n",
            "Step 2750/5000, train loss: nan, \tTEST loss: nan\n",
            "Step 2760/5000, train loss: nan, \tTEST loss: nan\n",
            "Step 2770/5000, train loss: nan, \tTEST loss: nan\n",
            "Step 2780/5000, train loss: nan, \tTEST loss: nan\n",
            "Step 2790/5000, train loss: nan, \tTEST loss: nan\n",
            "Step 2800/5000, train loss: nan, \tTEST loss: nan\n",
            "Step 2810/5000, train loss: nan, \tTEST loss: nan\n",
            "Step 2820/5000, train loss: nan, \tTEST loss: nan\n",
            "Step 2830/5000, train loss: nan, \tTEST loss: nan\n",
            "Step 2840/5000, train loss: nan, \tTEST loss: nan\n",
            "Step 2850/5000, train loss: nan, \tTEST loss: nan\n",
            "Step 2860/5000, train loss: nan, \tTEST loss: nan\n",
            "Step 2870/5000, train loss: nan, \tTEST loss: nan\n",
            "Step 2880/5000, train loss: nan, \tTEST loss: nan\n",
            "Step 2890/5000, train loss: nan, \tTEST loss: nan\n",
            "Step 2900/5000, train loss: nan, \tTEST loss: nan\n",
            "Step 2910/5000, train loss: nan, \tTEST loss: nan\n",
            "Step 2920/5000, train loss: nan, \tTEST loss: nan\n",
            "Step 2930/5000, train loss: nan, \tTEST loss: nan\n",
            "Step 2940/5000, train loss: nan, \tTEST loss: nan\n",
            "Step 2950/5000, train loss: nan, \tTEST loss: nan\n",
            "Step 2960/5000, train loss: nan, \tTEST loss: nan\n",
            "Step 2970/5000, train loss: nan, \tTEST loss: nan\n",
            "Step 2980/5000, train loss: nan, \tTEST loss: nan\n",
            "Step 2990/5000, train loss: nan, \tTEST loss: nan\n",
            "Step 3000/5000, train loss: nan, \tTEST loss: nan\n",
            "Step 3010/5000, train loss: nan, \tTEST loss: nan\n",
            "Step 3020/5000, train loss: nan, \tTEST loss: nan\n",
            "Step 3030/5000, train loss: nan, \tTEST loss: nan\n",
            "Step 3040/5000, train loss: nan, \tTEST loss: nan\n",
            "Step 3050/5000, train loss: nan, \tTEST loss: nan\n",
            "Step 3060/5000, train loss: nan, \tTEST loss: nan\n",
            "Step 3070/5000, train loss: nan, \tTEST loss: nan\n",
            "Step 3080/5000, train loss: nan, \tTEST loss: nan\n",
            "Step 3090/5000, train loss: nan, \tTEST loss: nan\n",
            "Step 3100/5000, train loss: nan, \tTEST loss: nan\n",
            "Step 3110/5000, train loss: nan, \tTEST loss: nan\n",
            "Step 3120/5000, train loss: nan, \tTEST loss: nan\n",
            "Step 3130/5000, train loss: nan, \tTEST loss: nan\n",
            "Step 3140/5000, train loss: nan, \tTEST loss: nan\n",
            "Step 3150/5000, train loss: nan, \tTEST loss: nan\n",
            "Step 3160/5000, train loss: nan, \tTEST loss: nan\n",
            "Step 3170/5000, train loss: nan, \tTEST loss: nan\n",
            "Step 3180/5000, train loss: nan, \tTEST loss: nan\n",
            "Step 3190/5000, train loss: nan, \tTEST loss: nan\n",
            "Step 3200/5000, train loss: nan, \tTEST loss: nan\n",
            "Step 3210/5000, train loss: nan, \tTEST loss: nan\n",
            "Step 3220/5000, train loss: nan, \tTEST loss: nan\n",
            "Step 3230/5000, train loss: nan, \tTEST loss: nan\n",
            "Step 3240/5000, train loss: nan, \tTEST loss: nan\n",
            "Step 3250/5000, train loss: nan, \tTEST loss: nan\n",
            "Step 3260/5000, train loss: nan, \tTEST loss: nan\n",
            "Step 3270/5000, train loss: nan, \tTEST loss: nan\n",
            "Step 3280/5000, train loss: nan, \tTEST loss: nan\n",
            "Step 3290/5000, train loss: nan, \tTEST loss: nan\n",
            "Step 3300/5000, train loss: nan, \tTEST loss: nan\n",
            "Step 3310/5000, train loss: nan, \tTEST loss: nan\n",
            "Step 3320/5000, train loss: nan, \tTEST loss: nan\n",
            "Step 3330/5000, train loss: nan, \tTEST loss: nan\n",
            "Step 3340/5000, train loss: nan, \tTEST loss: nan\n",
            "Step 3350/5000, train loss: nan, \tTEST loss: nan\n",
            "Step 3360/5000, train loss: nan, \tTEST loss: nan\n",
            "Step 3370/5000, train loss: nan, \tTEST loss: nan\n",
            "Step 3380/5000, train loss: nan, \tTEST loss: nan\n",
            "Step 3390/5000, train loss: nan, \tTEST loss: nan\n",
            "Step 3400/5000, train loss: nan, \tTEST loss: nan\n",
            "Step 3410/5000, train loss: nan, \tTEST loss: nan\n",
            "Step 3420/5000, train loss: nan, \tTEST loss: nan\n",
            "Step 3430/5000, train loss: nan, \tTEST loss: nan\n",
            "Step 3440/5000, train loss: nan, \tTEST loss: nan\n",
            "Step 3450/5000, train loss: nan, \tTEST loss: nan\n",
            "Step 3460/5000, train loss: nan, \tTEST loss: nan\n",
            "Step 3470/5000, train loss: nan, \tTEST loss: nan\n",
            "Step 3480/5000, train loss: nan, \tTEST loss: nan\n",
            "Step 3490/5000, train loss: nan, \tTEST loss: nan\n",
            "Step 3500/5000, train loss: nan, \tTEST loss: nan\n",
            "Step 3510/5000, train loss: nan, \tTEST loss: nan\n",
            "Step 3520/5000, train loss: nan, \tTEST loss: nan\n",
            "Step 3530/5000, train loss: nan, \tTEST loss: nan\n",
            "Step 3540/5000, train loss: nan, \tTEST loss: nan\n",
            "Step 3550/5000, train loss: nan, \tTEST loss: nan\n",
            "Step 3560/5000, train loss: nan, \tTEST loss: nan\n",
            "Step 3570/5000, train loss: nan, \tTEST loss: nan\n",
            "Step 3580/5000, train loss: nan, \tTEST loss: nan\n",
            "Step 3590/5000, train loss: nan, \tTEST loss: nan\n",
            "Step 3600/5000, train loss: nan, \tTEST loss: nan\n",
            "Step 3610/5000, train loss: nan, \tTEST loss: nan\n",
            "Step 3620/5000, train loss: nan, \tTEST loss: nan\n",
            "Step 3630/5000, train loss: nan, \tTEST loss: nan\n",
            "Step 3640/5000, train loss: nan, \tTEST loss: nan\n",
            "Step 3650/5000, train loss: nan, \tTEST loss: nan\n",
            "Step 3660/5000, train loss: nan, \tTEST loss: nan\n",
            "Step 3670/5000, train loss: nan, \tTEST loss: nan\n",
            "Step 3680/5000, train loss: nan, \tTEST loss: nan\n",
            "Step 3690/5000, train loss: nan, \tTEST loss: nan\n",
            "Step 3700/5000, train loss: nan, \tTEST loss: nan\n",
            "Step 3710/5000, train loss: nan, \tTEST loss: nan\n",
            "Step 3720/5000, train loss: nan, \tTEST loss: nan\n",
            "Step 3730/5000, train loss: nan, \tTEST loss: nan\n",
            "Step 3740/5000, train loss: nan, \tTEST loss: nan\n",
            "Step 3750/5000, train loss: nan, \tTEST loss: nan\n",
            "Step 3760/5000, train loss: nan, \tTEST loss: nan\n",
            "Step 3770/5000, train loss: nan, \tTEST loss: nan\n",
            "Step 3780/5000, train loss: nan, \tTEST loss: nan\n",
            "Step 3790/5000, train loss: nan, \tTEST loss: nan\n",
            "Step 3800/5000, train loss: nan, \tTEST loss: nan\n",
            "Step 3810/5000, train loss: nan, \tTEST loss: nan\n",
            "Step 3820/5000, train loss: nan, \tTEST loss: nan\n",
            "Step 3830/5000, train loss: nan, \tTEST loss: nan\n",
            "Step 3840/5000, train loss: nan, \tTEST loss: nan\n",
            "Step 3850/5000, train loss: nan, \tTEST loss: nan\n",
            "Step 3860/5000, train loss: nan, \tTEST loss: nan\n",
            "Step 3870/5000, train loss: nan, \tTEST loss: nan\n",
            "Step 3880/5000, train loss: nan, \tTEST loss: nan\n",
            "Step 3890/5000, train loss: nan, \tTEST loss: nan\n",
            "Step 3900/5000, train loss: nan, \tTEST loss: nan\n",
            "Step 3910/5000, train loss: nan, \tTEST loss: nan\n",
            "Step 3920/5000, train loss: nan, \tTEST loss: nan\n",
            "Step 3930/5000, train loss: nan, \tTEST loss: nan\n",
            "Step 3940/5000, train loss: nan, \tTEST loss: nan\n",
            "Step 3950/5000, train loss: nan, \tTEST loss: nan\n",
            "Step 3960/5000, train loss: nan, \tTEST loss: nan\n",
            "Step 3970/5000, train loss: nan, \tTEST loss: nan\n",
            "Step 3980/5000, train loss: nan, \tTEST loss: nan\n",
            "Step 3990/5000, train loss: nan, \tTEST loss: nan\n",
            "Step 4000/5000, train loss: nan, \tTEST loss: nan\n",
            "Step 4010/5000, train loss: nan, \tTEST loss: nan\n",
            "Step 4020/5000, train loss: nan, \tTEST loss: nan\n",
            "Step 4030/5000, train loss: nan, \tTEST loss: nan\n",
            "Step 4040/5000, train loss: nan, \tTEST loss: nan\n",
            "Step 4050/5000, train loss: nan, \tTEST loss: nan\n",
            "Step 4060/5000, train loss: nan, \tTEST loss: nan\n",
            "Step 4070/5000, train loss: nan, \tTEST loss: nan\n",
            "Step 4080/5000, train loss: nan, \tTEST loss: nan\n",
            "Step 4090/5000, train loss: nan, \tTEST loss: nan\n",
            "Step 4100/5000, train loss: nan, \tTEST loss: nan\n",
            "Step 4110/5000, train loss: nan, \tTEST loss: nan\n",
            "Step 4120/5000, train loss: nan, \tTEST loss: nan\n",
            "Step 4130/5000, train loss: nan, \tTEST loss: nan\n",
            "Step 4140/5000, train loss: nan, \tTEST loss: nan\n",
            "Step 4150/5000, train loss: nan, \tTEST loss: nan\n",
            "Step 4160/5000, train loss: nan, \tTEST loss: nan\n",
            "Step 4170/5000, train loss: nan, \tTEST loss: nan\n",
            "Step 4180/5000, train loss: nan, \tTEST loss: nan\n",
            "Step 4190/5000, train loss: nan, \tTEST loss: nan\n",
            "Step 4200/5000, train loss: nan, \tTEST loss: nan\n",
            "Step 4210/5000, train loss: nan, \tTEST loss: nan\n",
            "Step 4220/5000, train loss: nan, \tTEST loss: nan\n",
            "Step 4230/5000, train loss: nan, \tTEST loss: nan\n",
            "Step 4240/5000, train loss: nan, \tTEST loss: nan\n",
            "Step 4250/5000, train loss: nan, \tTEST loss: nan\n",
            "Step 4260/5000, train loss: nan, \tTEST loss: nan\n",
            "Step 4270/5000, train loss: nan, \tTEST loss: nan\n",
            "Step 4280/5000, train loss: nan, \tTEST loss: nan\n",
            "Step 4290/5000, train loss: nan, \tTEST loss: nan\n",
            "Step 4300/5000, train loss: nan, \tTEST loss: nan\n",
            "Step 4310/5000, train loss: nan, \tTEST loss: nan\n",
            "Step 4320/5000, train loss: nan, \tTEST loss: nan\n",
            "Step 4330/5000, train loss: nan, \tTEST loss: nan\n",
            "Step 4340/5000, train loss: nan, \tTEST loss: nan\n",
            "Step 4350/5000, train loss: nan, \tTEST loss: nan\n",
            "Step 4360/5000, train loss: nan, \tTEST loss: nan\n",
            "Step 4370/5000, train loss: nan, \tTEST loss: nan\n",
            "Step 4380/5000, train loss: nan, \tTEST loss: nan\n",
            "Step 4390/5000, train loss: nan, \tTEST loss: nan\n",
            "Step 4400/5000, train loss: nan, \tTEST loss: nan\n",
            "Step 4410/5000, train loss: nan, \tTEST loss: nan\n",
            "Step 4420/5000, train loss: nan, \tTEST loss: nan\n",
            "Step 4430/5000, train loss: nan, \tTEST loss: nan\n",
            "Step 4440/5000, train loss: nan, \tTEST loss: nan\n",
            "Step 4450/5000, train loss: nan, \tTEST loss: nan\n",
            "Step 4460/5000, train loss: nan, \tTEST loss: nan\n",
            "Step 4470/5000, train loss: nan, \tTEST loss: nan\n",
            "Step 4480/5000, train loss: nan, \tTEST loss: nan\n",
            "Step 4490/5000, train loss: nan, \tTEST loss: nan\n",
            "Step 4500/5000, train loss: nan, \tTEST loss: nan\n",
            "Step 4510/5000, train loss: nan, \tTEST loss: nan\n",
            "Step 4520/5000, train loss: nan, \tTEST loss: nan\n",
            "Step 4530/5000, train loss: nan, \tTEST loss: nan\n",
            "Step 4540/5000, train loss: nan, \tTEST loss: nan\n",
            "Step 4550/5000, train loss: nan, \tTEST loss: nan\n",
            "Step 4560/5000, train loss: nan, \tTEST loss: nan\n",
            "Step 4570/5000, train loss: nan, \tTEST loss: nan\n",
            "Step 4580/5000, train loss: nan, \tTEST loss: nan\n",
            "Step 4590/5000, train loss: nan, \tTEST loss: nan\n",
            "Step 4600/5000, train loss: nan, \tTEST loss: nan\n",
            "Step 4610/5000, train loss: nan, \tTEST loss: nan\n",
            "Step 4620/5000, train loss: nan, \tTEST loss: nan\n",
            "Step 4630/5000, train loss: nan, \tTEST loss: nan\n",
            "Step 4640/5000, train loss: nan, \tTEST loss: nan\n",
            "Step 4650/5000, train loss: nan, \tTEST loss: nan\n",
            "Step 4660/5000, train loss: nan, \tTEST loss: nan\n",
            "Step 4670/5000, train loss: nan, \tTEST loss: nan\n",
            "Step 4680/5000, train loss: nan, \tTEST loss: nan\n",
            "Step 4690/5000, train loss: nan, \tTEST loss: nan\n",
            "Step 4700/5000, train loss: nan, \tTEST loss: nan\n",
            "Step 4710/5000, train loss: nan, \tTEST loss: nan\n",
            "Step 4720/5000, train loss: nan, \tTEST loss: nan\n",
            "Step 4730/5000, train loss: nan, \tTEST loss: nan\n",
            "Step 4740/5000, train loss: nan, \tTEST loss: nan\n",
            "Step 4750/5000, train loss: nan, \tTEST loss: nan\n",
            "Step 4760/5000, train loss: nan, \tTEST loss: nan\n",
            "Step 4770/5000, train loss: nan, \tTEST loss: nan\n",
            "Step 4780/5000, train loss: nan, \tTEST loss: nan\n",
            "Step 4790/5000, train loss: nan, \tTEST loss: nan\n",
            "Step 4800/5000, train loss: nan, \tTEST loss: nan\n",
            "Step 4810/5000, train loss: nan, \tTEST loss: nan\n",
            "Step 4820/5000, train loss: nan, \tTEST loss: nan\n",
            "Step 4830/5000, train loss: nan, \tTEST loss: nan\n",
            "Step 4840/5000, train loss: nan, \tTEST loss: nan\n",
            "Step 4850/5000, train loss: nan, \tTEST loss: nan\n",
            "Step 4860/5000, train loss: nan, \tTEST loss: nan\n",
            "Step 4870/5000, train loss: nan, \tTEST loss: nan\n",
            "Step 4880/5000, train loss: nan, \tTEST loss: nan\n",
            "Step 4890/5000, train loss: nan, \tTEST loss: nan\n",
            "Step 4900/5000, train loss: nan, \tTEST loss: nan\n",
            "Step 4910/5000, train loss: nan, \tTEST loss: nan\n",
            "Step 4920/5000, train loss: nan, \tTEST loss: nan\n",
            "Step 4930/5000, train loss: nan, \tTEST loss: nan\n",
            "Step 4940/5000, train loss: nan, \tTEST loss: nan\n",
            "Step 4950/5000, train loss: nan, \tTEST loss: nan\n",
            "Step 4960/5000, train loss: nan, \tTEST loss: nan\n",
            "Step 4970/5000, train loss: nan, \tTEST loss: nan\n",
            "Step 4980/5000, train loss: nan, \tTEST loss: nan\n",
            "Step 4990/5000, train loss: nan, \tTEST loss: nan\n",
            "Step 5000/5000, train loss: nan, \tTEST loss: nan\n",
            "Fin. train loss: nan, \tTEST loss: nan\n"
          ],
          "name": "stdout"
        }
      ]
    },
    {
      "cell_type": "markdown",
      "metadata": {
        "id": "UYztURk7tdZx",
        "colab_type": "text"
      },
      "source": [
        "**Results Visualization**"
      ]
    },
    {
      "cell_type": "markdown",
      "metadata": {
        "id": "RaNM30CXtdxk",
        "colab_type": "text"
      },
      "source": [
        "**Error dynamics in the training and test sample by iterations**"
      ]
    },
    {
      "cell_type": "code",
      "metadata": {
        "id": "oiQIoHSG9F6T",
        "colab_type": "code",
        "outputId": "555c4688-bd9d-43d1-9bf1-50a15b720dc3",
        "colab": {
          "base_uri": "https://localhost:8080/",
          "height": 642
        }
      },
      "source": [
        "plt.figure(figsize=(12, 6))\n",
        "plt.plot( np.array(range(0, len(test_losses)))/float(len(test_losses)-1)*(len(train_losses)-1), np.log(test_losses), label=\"Test loss\")\n",
        "plt.plot(np.log(train_losses), label=\"Train loss\")\n",
        "\n",
        "plt.title(\" errors vs time (on a logarithmic scale)\") \n",
        "plt.xlabel('Iteration')\n",
        "plt.ylabel('log(Loss)') \n",
        "plt.legend(loc='3') \n",
        "plt.show()"
      ],
      "execution_count": 15,
      "outputs": [
        {
          "output_type": "stream",
          "text": [
            "/usr/local/lib/python3.6/dist-packages/ipykernel_launcher.py:8: MatplotlibDeprecationWarning: Unrecognized location '3'. Falling back on 'best'; valid locations are\n",
            "\tbest\n",
            "\tupper right\n",
            "\tupper left\n",
            "\tlower left\n",
            "\tlower right\n",
            "\tright\n",
            "\tcenter left\n",
            "\tcenter right\n",
            "\tlower center\n",
            "\tupper center\n",
            "\tcenter\n",
            "This will raise an exception in 3.3.\n",
            "  \n"
          ],
          "name": "stderr"
        },
        {
          "output_type": "display_data",
          "data": {
            "image/png": "[encoded data removed]",
            "text/plain": [
              "<Figure size 864x432 with 1 Axes>"
            ]
          },
          "metadata": {
            "tags": [],
            "needs_background": "light"
          }
        }
      ]
    },
    {
      "cell_type": "markdown",
      "metadata": {
        "id": "qay-jI60tsRy",
        "colab_type": "text"
      },
      "source": [
        "**Prediction Visualization**"
      ]
    },
    {
      "cell_type": "code",
      "metadata": {
        "id": "Cd0sno6c9F0q",
        "colab_type": "code",
        "outputId": "664a26c3-ca49-4d0f-987a-abc068161a36",
        "colab": {
          "base_uri": "https://localhost:8080/",
          "height": 465
        }
      },
      "source": [
        "nb_predictions = 1\n",
        "print (\" Let 's visualize {} predictions with our signals :\". format (nb_predictions ))\n",
        "X, Y = generate_x_y_data( isTrain =False , batch_size = nb_predictions )\n",
        "feed_dict = { enc_inp [t]: X[t] for t in range ( seq_length )}\n",
        "outputs = np.array( sess.run([ reshaped_outputs ], feed_dict )[0])\n",
        "# выводим предсказания по каждому пакету\n",
        "for j in range ( nb_predictions ):\n",
        "    plt.figure( figsize =(12 , 3))\n",
        "    for k in range ( output_dim ):\n",
        "        past = X[:,j,k]\n",
        "        expected = Y[:,j,k]\n",
        "        pred = outputs [:,j,k]\n",
        "    label1 = \" Seen ( past ) values \" if k ==0 else \" _nolegend_ \"\n",
        "    label2 = \" True future values \" if k ==0 else \" _nolegend_ \"\n",
        "    label3 = \" Predictions \" if k ==0 else \" _nolegend_ \"\n",
        "    plt.plot(range(len(past)), past , \"o--b\", label = label1 )\n",
        "    plt.plot(range(len(past),len(expected)+len(past)), expected, \"x--b\", label = label2)\n",
        "    plt.plot(range(len(past),len(pred) + len (past)), pred , \"o--y\", label = label3 )\n",
        "    plt.legend( loc ='best ')\n",
        "    plt.title(\" Predictions v.s. true values \")\n",
        "    plt.show()"
      ],
      "execution_count": 16,
      "outputs": [
        {
          "output_type": "stream",
          "text": [
            " Let 's visualize 1 predictions with our signals :\n"
          ],
          "name": "stdout"
        },
        {
          "output_type": "stream",
          "text": [
            "/usr/local/lib/python3.6/dist-packages/ipykernel_launcher.py:19: MatplotlibDeprecationWarning: Unrecognized location 'best '. Falling back on 'best'; valid locations are\n",
            "\tbest\n",
            "\tupper right\n",
            "\tupper left\n",
            "\tlower left\n",
            "\tlower right\n",
            "\tright\n",
            "\tcenter left\n",
            "\tcenter right\n",
            "\tlower center\n",
            "\tupper center\n",
            "\tcenter\n",
            "This will raise an exception in 3.3.\n"
          ],
          "name": "stderr"
        },
        {
          "output_type": "display_data",
          "data": {
            "image/png": "[encoded data removed]",
            "text/plain": [
              "<Figure size 864x216 with 1 Axes>"
            ]
          },
          "metadata": {
            "tags": [],
            "needs_background": "light"
          }
        }
      ]
    }
  ]
}