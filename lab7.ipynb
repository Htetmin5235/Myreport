{
  "nbformat": 4,
  "nbformat_minor": 0,
  "metadata": {
    "colab": {
      "name": "Untitled29.ipynb",
      "provenance": [],
      "authorship_tag": "ABX9TyMsznh1vvt/SrSNLKquBarg",
      "include_colab_link": true
    },
    "kernelspec": {
      "name": "python3",
      "display_name": "Python 3"
    }
  },
  "cells": [
    {
      "cell_type": "markdown",
      "metadata": {
        "id": "view-in-github",
        "colab_type": "text"
      },
      "source": [
        "<a href=\"https://colab.research.google.com/github/Htetmin5235/Myreport/blob/master/lab7.ipynb\" target=\"_parent\"><img src=\"https://colab.research.google.com/assets/colab-badge.svg\" alt=\"Open In Colab\"/></a>"
      ]
    },
    {
      "cell_type": "code",
      "metadata": {
        "id": "dCeZK5GjD_t4",
        "colab_type": "code",
        "colab": {
          "base_uri": "https://localhost:8080/",
          "height": 34
        },
        "outputId": "eb363247-a2eb-478e-b555-70a7b9e6a935"
      },
      "source": [
        "%tensorflow_version 1.x"
      ],
      "execution_count": 1,
      "outputs": [
        {
          "output_type": "stream",
          "text": [
            "TensorFlow 1.x selected.\n"
          ],
          "name": "stdout"
        }
      ]
    },
    {
      "cell_type": "code",
      "metadata": {
        "id": "Va9izNfpECIp",
        "colab_type": "code",
        "colab": {}
      },
      "source": [
        "import numpy as np\n",
        "import tensorflow as tf\n",
        "from collections import Counter\n",
        "from sklearn.datasets import fetch_20newsgroups"
      ],
      "execution_count": 0,
      "outputs": []
    },
    {
      "cell_type": "code",
      "metadata": {
        "id": "fcM667hGEGpR",
        "colab_type": "code",
        "colab": {
          "base_uri": "https://localhost:8080/",
          "height": 493
        },
        "outputId": "1e9e065e-2865-488c-f80a-c716e49a3c86"
      },
      "source": [
        "categories = [\"comp.os.ms-windows.misc\",\"sci.crypt\",\"talk.religion.misc\",\"rec.autos\"]\n",
        "newsgroups_train = fetch_20newsgroups(subset='train', categories=categories)\n",
        "newsgroups_test = fetch_20newsgroups(subset='test', categories=categories)\n",
        "print('total texts in train:',len(newsgroups_train.data))\n",
        "print('total texts in test:',len(newsgroups_test.data))\n",
        "print('text',newsgroups_train.data[0])\n",
        "print('category:',newsgroups_train.target[0])"
      ],
      "execution_count": 3,
      "outputs": [
        {
          "output_type": "stream",
          "text": [
            "Downloading 20news dataset. This may take a few minutes.\n",
            "Downloading dataset from https://ndownloader.figshare.com/files/5975967 (14 MB)\n"
          ],
          "name": "stderr"
        },
        {
          "output_type": "stream",
          "text": [
            "total texts in train: 2157\n",
            "total texts in test: 1437\n",
            "text From: pp@cbnewsl.cb.att.com (peter.peng)\n",
            "Subject: 1990 Integra LS for sale\n",
            "Organization: AT&T Bell Laboratories\n",
            "Distribution: nj\n",
            "Keywords: for sale integra\n",
            "Lines: 15\n",
            "\n",
            "\n",
            "\n",
            "********* 1990 Integra LS for Sale *********\n",
            "\n",
            "5 speed, sunroof, rear spoiler, new tires\n",
            "59.7K miles\n",
            "\n",
            "$ 7950 or best offer.\n",
            "\n",
            "call 908-949-0878\n",
            "     908-938-4101\n",
            "\n",
            "email att!hotsoup!peng\n",
            "\n",
            "*********************************************\n",
            "\n",
            "category: 1\n"
          ],
          "name": "stdout"
        }
      ]
    },
    {
      "cell_type": "markdown",
      "metadata": {
        "id": "0nOqrkl-GJQ5",
        "colab_type": "text"
      },
      "source": [
        "**Generate Array of words from text of each collection**"
      ]
    },
    {
      "cell_type": "code",
      "metadata": {
        "id": "t8yLNEyNGAdf",
        "colab_type": "code",
        "colab": {}
      },
      "source": [
        "vocab = Counter()\n",
        "for text in newsgroups_train.data:\n",
        "  for word in text.split(' '):\n",
        "      vocab[word.lower()] += 1\n",
        "\n",
        "for text in newsgroups_test.data:\n",
        "  for word in text.split(' '):\n",
        "      vocab[word.lower()] += 1\n",
        "\n",
        "total_words = len(vocab)\n",
        "\n",
        "def get_word_2_index(vocab):\n",
        "  word2index = {}\n",
        "  for i, word in enumerate(vocab):\n",
        "    word2index[word.lower()] = i\n",
        "  return word2index\n",
        "\n",
        "word2index = get_word_2_index(vocab)\n",
        "\n",
        "def get_batch(df, i, batch_size):\n",
        "  batches = []\n",
        "  results = []\n",
        "  texts = df.data[i * batch_size:i * batch_size + batch_size]\n",
        "  categories = df.target[i * batch_size:i * batch_size + batch_size]\n",
        "  for text in texts:\n",
        "    layer = np.zeros(total_words, dtype=float)\n",
        "    for word in text.split(' '):\n",
        "      layer[word2index[word.lower()]] += 1\n",
        "    batches.append(layer)\n",
        "\n",
        "  for category in categories:\n",
        "    y = np.zeros((3), dtype=float)\n",
        "    if category == 0:\n",
        "      y[0] = 1.\n",
        "    elif category == 1:\n",
        "      y[1] = 1.\n",
        "    else:\n",
        "      y[2] = 1.\n",
        "    results.append(y)\n",
        "\n",
        "  return np.array(batches), np.array(results)"
      ],
      "execution_count": 0,
      "outputs": []
    },
    {
      "cell_type": "markdown",
      "metadata": {
        "id": "YP4QE_xZGP_x",
        "colab_type": "text"
      },
      "source": [
        "**Neural NetWork: Parameters and design : 3 hidden layers**"
      ]
    },
    {
      "cell_type": "code",
      "metadata": {
        "id": "5mE5zVs2GUJq",
        "colab_type": "code",
        "colab": {}
      },
      "source": [
        "# Параметры обучения\n",
        "learning_rate = 0.09\n",
        "training_epochs = 12\n",
        "batch_size = 160\n",
        "display_step = 1\n",
        "# Network Parameters\n",
        "n_hidden_1 = 35 # скрытый слой\n",
        "n_hidden_2 = 25 # скрытый слой\n",
        "n_hidden_3 = 20 # скрытый слой\n",
        "n_input = total_words # количество уникальных слов в наших текстах\n",
        "n_classes = 3 # 3 класса\n",
        "input_tensor = tf.placeholder(tf.float32,[None, n_input],name=\"input\")\n",
        "output_tensor = tf.placeholder(tf.float32,[None, n_classes],name=\"output\")\n",
        "def multilayer_perceptron(input_tensor, weights, biases):\n",
        "  # скрытый слой\n",
        "  layer_1_multiplication = tf.matmul(input_tensor, weights['h1'])\n",
        "  layer_1_addition = tf.add(layer_1_multiplication, biases['b1'])\n",
        "  layer_1 = tf.nn.relu(layer_1_addition)\n",
        "  # скрытый слой\n",
        "  layer_2_multiplication = tf.matmul(layer_1, weights['h2'])\n",
        "  layer_2_addition = tf.add(layer_2_multiplication, biases['b2'])\n",
        "  layer_2 = tf.nn.relu(layer_2_addition)\n",
        "  # скрытый слой\n",
        "  layer_3_multiplication = tf.matmul(layer_2, weights['h3'])\n",
        "  layer_3_addition = tf.add(layer_3_multiplication, biases['b3'])\n",
        "  layer_3 = tf.nn.relu(layer_3_addition)\n",
        "  # выходной слой\n",
        "  out_layer_multiplication = tf.matmul(layer_3, weights['out'])\n",
        "  out_layer_addition = out_layer_multiplication + biases['out']\n",
        "  return out_layer_addition"
      ],
      "execution_count": 0,
      "outputs": []
    },
    {
      "cell_type": "code",
      "metadata": {
        "id": "pNQrwf5yGygy",
        "colab_type": "code",
        "colab": {
          "base_uri": "https://localhost:8080/",
          "height": 153
        },
        "outputId": "e65626c1-305b-4536-c14e-15744280c8b3"
      },
      "source": [
        "# инициализация параметров сети\n",
        "weights = {\n",
        "'h1': tf.Variable(tf.random_normal([n_input, n_hidden_1])),\n",
        "'h2': tf.Variable(tf.random_normal([n_hidden_1, n_hidden_2])),\n",
        "'h3': tf.Variable(tf.random_normal([n_hidden_2, n_hidden_3])),\n",
        "'out': tf.Variable(tf.random_normal([n_hidden_3, n_classes]))\n",
        "}\n",
        "biases = {\n",
        "'b1': tf.Variable(tf.random_normal([n_hidden_1])),\n",
        "'b2': tf.Variable(tf.random_normal([n_hidden_2])),\n",
        "'b3': tf.Variable(tf.random_normal([n_hidden_3])),\n",
        "'out': tf.Variable(tf.random_normal([n_classes]))\n",
        "}\n",
        "# создание модели\n",
        "prediction = multilayer_perceptron(input_tensor, weights, biases)\n",
        "# Фукнция потерь\n",
        "loss = tf.reduce_mean(tf.nn.softmax_cross_entropy_with_logits(logits=prediction, labels=output_tensor))\n",
        "optimizer = tf.train.AdamOptimizer(learning_rate=learning_rate).minimize(loss)\n",
        "init = tf.global_variables_initializer()"
      ],
      "execution_count": 6,
      "outputs": [
        {
          "output_type": "stream",
          "text": [
            "WARNING:tensorflow:From <ipython-input-6-cecb78d91c08>:17: softmax_cross_entropy_with_logits (from tensorflow.python.ops.nn_ops) is deprecated and will be removed in a future version.\n",
            "Instructions for updating:\n",
            "\n",
            "Future major versions of TensorFlow will allow gradients to flow\n",
            "into the labels input on backprop by default.\n",
            "\n",
            "See `tf.nn.softmax_cross_entropy_with_logits_v2`.\n",
            "\n"
          ],
          "name": "stdout"
        }
      ]
    },
    {
      "cell_type": "code",
      "metadata": {
        "id": "o-9jJWI9G69b",
        "colab_type": "code",
        "colab": {
          "base_uri": "https://localhost:8080/",
          "height": 255
        },
        "outputId": "5603f5c9-5b04-4f49-fb4d-6d144dc27258"
      },
      "source": [
        "# Запуск\n",
        "with tf.Session() as sess:\n",
        "  sess.run(init)\n",
        "  # Цикл обучения\n",
        "  for epoch in range(training_epochs):\n",
        "    avg_cost = 0.\n",
        "    total_batch = int(len(newsgroups_train.data)/batch_size)\n",
        "    # Проход по всем батчам\n",
        "    for i in range(total_batch):\n",
        "      batch_x,batch_y = get_batch(newsgroups_train,i,batch_size)\n",
        "      c,_ = sess.run([loss,optimizer], feed_dict={input_tensor: batch_x,output_tensor:batch_y})\n",
        "      # Вычисляем среднее фукнции потерь\n",
        "      avg_cost += c / total_batch\n",
        "    print(\"Эпоха:\", '%04d' % (epoch+1), \"loss=\", \"{:.16f}\".format(avg_cost))\n",
        "  print(\"Обучение завершено!\")\n",
        "\n",
        "  # Тестирование\n",
        "  correct_prediction = tf.equal(tf.argmax(prediction, 1), tf.argmax(output_tensor, 1))\n",
        "  # Расчет точности\n",
        "  accuracy = tf.reduce_mean(tf.cast(correct_prediction, \"float\"))\n",
        "  total_test_data = len(newsgroups_test.target)\n",
        "  batch_x_test,batch_y_test = get_batch(newsgroups_test,0,total_test_data)\n",
        "  print(\"Точность:\", accuracy.eval({input_tensor: batch_x_test, output_tensor: batch_y_test}))"
      ],
      "execution_count": 7,
      "outputs": [
        {
          "output_type": "stream",
          "text": [
            "Эпоха: 0001 loss= 483.0428631122296110\n",
            "Эпоха: 0002 loss= 28.1692770077632026\n",
            "Эпоха: 0003 loss= 8.6033714642891521\n",
            "Эпоха: 0004 loss= 1.2230299344429607\n",
            "Эпоха: 0005 loss= 1.0549973891331601\n",
            "Эпоха: 0006 loss= 1.0549998741883497\n",
            "Эпоха: 0007 loss= 1.0614605225049532\n",
            "Эпоха: 0008 loss= 1.0551424484986527\n",
            "Эпоха: 0009 loss= 1.0535456584050107\n",
            "Эпоха: 0010 loss= 1.0505098196176381\n",
            "Эпоха: 0011 loss= 1.0459531362240131\n",
            "Эпоха: 0012 loss= 1.0120967901670015\n",
            "Обучение завершено!\n",
            "Точность: 0.48086292\n"
          ],
          "name": "stdout"
        }
      ]
    }
  ]
}