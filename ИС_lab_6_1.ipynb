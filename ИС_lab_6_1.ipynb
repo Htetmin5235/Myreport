{
  "nbformat": 4,
  "nbformat_minor": 0,
  "metadata": {
    "colab": {
      "name": "ИС_lab_6_1.ipynb",
      "provenance": [],
      "collapsed_sections": [],
      "include_colab_link": true
    },
    "kernelspec": {
      "name": "python3",
      "display_name": "Python 3"
    }
  },
  "cells": [
    {
      "cell_type": "markdown",
      "metadata": {
        "id": "view-in-github",
        "colab_type": "text"
      },
      "source": [
        "<a href=\"https://colab.research.google.com/github/Htetmin5235/Myreport/blob/master/%D0%98%D0%A1_lab_6_1.ipynb\" target=\"_parent\"><img src=\"https://colab.research.google.com/assets/colab-badge.svg\" alt=\"Open In Colab\"/></a>"
      ]
    },
    {
      "cell_type": "code",
      "metadata": {
        "id": "9Ezi0Im18w5B",
        "colab_type": "code",
        "outputId": "81b6f757-928d-4504-c8a2-054d0a7f6934",
        "colab": {
          "base_uri": "https://localhost:8080/",
          "height": 34
        }
      },
      "source": [
        "%tensorflow_version 1.x"
      ],
      "execution_count": 1,
      "outputs": [
        {
          "output_type": "stream",
          "text": [
            "TensorFlow 1.x selected.\n"
          ],
          "name": "stdout"
        }
      ]
    },
    {
      "cell_type": "code",
      "metadata": {
        "id": "RAYfOzTU_-1M",
        "colab_type": "code",
        "colab": {}
      },
      "source": [
        "import numpy as np\n",
        "import random\n",
        "import math\n",
        "import tensorflow as tf\n",
        "import matplotlib.pyplot as plt"
      ],
      "execution_count": 0,
      "outputs": []
    },
    {
      "cell_type": "markdown",
      "metadata": {
        "id": "BYxc9ovVoPG3",
        "colab_type": "text"
      },
      "source": [
        " **Data generation**"
      ]
    },
    {
      "cell_type": "markdown",
      "metadata": {
        "id": "br_WB0mzoZv2",
        "colab_type": "text"
      },
      "source": [
        "**Generates two time series related to each other.**"
      ]
    },
    {
      "cell_type": "code",
      "metadata": {
        "id": "ZfD_IV3HZ7F2",
        "colab_type": "code",
        "colab": {}
      },
      "source": [
        "def generate_x_y_data_v1(isTrain, batch_size):\n",
        "    seq_length = 10\n",
        "    \n",
        "    batch_x = []\n",
        "    batch_y = []\n",
        "    for _ in range(batch_size): \n",
        "        # Одна итерация цикла генерирует 1 пакет данных \n",
        "        rand = random.random() * 2 * math.pi\n",
        "        \n",
        "        # Генерируем набор данных по заданному закону\n",
        "        # генерирует набор точек, равномерно распредленных по заданному интервалу \n",
        "        # (границы интервала смещены на случайную величину)\n",
        "        sig1 = np.sin(np.linspace(0.0 * math.pi + rand , 3.0 * math.pi + rand , seq_length * 2))\n",
        "        sig2 = np.cos(np.linspace(0.0 * math.pi + rand , 3.0 * math.pi + rand , seq_length * 2))\n",
        "        \n",
        "        # первую половину сигналов берем на обучающую выборку, вторую - на контрольную\n",
        "        x1 = sig1[:seq_length]\n",
        "        y1 = sig1[seq_length:]\n",
        "        x2 = sig2[:seq_length]\n",
        "        y2 = sig2[seq_length:]\n",
        "        \n",
        "        x_ = np.array([x1, x2])\n",
        "        y_ = np.array([y1, y2])\n",
        "        x_, y_ = x_.T, y_.T\n",
        "    \n",
        "        batch_x.append(x_)\n",
        "        batch_y.append(y_)\n",
        "    \n",
        "    batch_x = np.array(batch_x)\n",
        "    batch_y = np.array(batch_y) \n",
        "    # размерность: (batch_size , seq_length , output_dim)\n",
        "    # транспонируем, чтобы привести к нужной размерности\n",
        "    batch_x = np.array(batch_x).transpose((1, 0, 2))\n",
        "    batch_y = np.array(batch_y).transpose((1, 0, 2)) \n",
        "    # размерность: (seq_length , batch_size , output_dim)\n",
        "    \n",
        "    return batch_x , batch_y"
      ],
      "execution_count": 0,
      "outputs": []
    },
    {
      "cell_type": "markdown",
      "metadata": {
        "id": "Kryo4X0YqNiC",
        "colab_type": "text"
      },
      "source": [
        "**Determination of the parameters of the Neural Network**"
      ]
    },
    {
      "cell_type": "code",
      "metadata": {
        "id": "6jjpUSLC924R",
        "colab_type": "code",
        "colab": {}
      },
      "source": [
        "# Данные имеют размерность (seq_length , batch_size , output_dim) \n",
        "sample_x , sample_y = generate_x_y_data_v1(isTrain=True , batch_size=3)\n",
        "\n",
        "# Длина последовательности (в данных примерах одинаковая для обучающих и тестовых данных)\n",
        "seq_length = sample_x.shape[0] \n",
        "\n",
        "# Размер пакета количество(тестовых примеров), по которому усредняется градиент\n",
        "batch_size = 5\n",
        "# Размерность выходных данных \n",
        "output_dim = input_dim = sample_x.shape[-1]\n",
        "# Количество скрытых нейронов в каждой ячейке\n",
        "hidden_dim = 12\n",
        "# Количество ячеек рекуррентной сети (в глубину)\n",
        "layers_stacked_count = 2\n",
        "\n",
        "# Параметры оптимизатора \n",
        "# Скорость обучения маленькая (скорость обучения позволяет алгоритму не расходиться во время обучения)\n",
        "learning_rate = 0.05\n",
        "# Количество итераций по обучающей выборке \n",
        "nb_iters = 2000\n",
        "# Дополнительные параметры алгоритма оптимизации\n",
        "lr_decay = 0.8\n",
        "momentum = 0.3\n",
        "# Коэффициент L2 регуляризации\n",
        "lambda_l2_reg = 0.003"
      ],
      "execution_count": 0,
      "outputs": []
    },
    {
      "cell_type": "markdown",
      "metadata": {
        "id": "vGcKbosKqXcm",
        "colab_type": "text"
      },
      "source": [
        "**Description of Computing Graph**"
      ]
    },
    {
      "cell_type": "code",
      "metadata": {
        "id": "6z5e_fEe9FpG",
        "colab_type": "code",
        "colab": {
          "base_uri": "https://localhost:8080/",
          "height": 153
        },
        "outputId": "2c381878-410e-4c0e-ad49-3bff689221b0"
      },
      "source": [
        "tf.nn.seq2seq = tf.contrib.legacy_seq2seq\n",
        "tf.nn.rnn_cell = tf.contrib.rnn\n",
        "tf.nn.rnn_cell.GRUCell = tf.contrib.rnn.GRUCell"
      ],
      "execution_count": 5,
      "outputs": [
        {
          "output_type": "stream",
          "text": [
            "WARNING:tensorflow:\n",
            "The TensorFlow contrib module will not be included in TensorFlow 2.0.\n",
            "For more information, please see:\n",
            "  * https://github.com/tensorflow/community/blob/master/rfcs/20180907-contrib-sunset.md\n",
            "  * https://github.com/tensorflow/addons\n",
            "  * https://github.com/tensorflow/io (for I/O related ops)\n",
            "If you depend on functionality not listed there, please file an issue.\n",
            "\n"
          ],
          "name": "stdout"
        }
      ]
    },
    {
      "cell_type": "code",
      "metadata": {
        "id": "a2fz5s1Yq_LM",
        "colab_type": "code",
        "colab": {}
      },
      "source": [
        "tf.reset_default_graph()\n",
        "# интерактивная сессия\n",
        "sess = tf.InteractiveSession()"
      ],
      "execution_count": 0,
      "outputs": []
    },
    {
      "cell_type": "code",
      "metadata": {
        "id": "yMBw0_It9FvQ",
        "colab_type": "code",
        "colab": {
          "base_uri": "https://localhost:8080/",
          "height": 343
        },
        "outputId": "44712abd-e81b-461b-d3d9-e176146d392f"
      },
      "source": [
        "with tf.variable_scope('Seq2seq'):\n",
        "    enc_inp = [\n",
        "        tf.placeholder(tf.float32, shape=(None, input_dim), name=\"inp_{}\".format(t))\n",
        "            for t in range(seq_length)\n",
        "    ]\n",
        "\n",
        "    expected_sparse_output = [\n",
        "        tf.placeholder(tf.float32 , shape=(None , output_dim), name=\"expected_sparse_output_\".format(t))\n",
        "            for t in range(seq_length)\n",
        "    ]\n",
        "    \n",
        "    dec_inp = [ tf.zeros_like(enc_inp[0], dtype=np.float32 , name=\"GO\") ] + enc_inp[:-1]\n",
        "    \n",
        "    cells = []\n",
        "    for i in range(layers_stacked_count):\n",
        "        with tf.variable_scope('RNN_{}'.format(i)):\n",
        "            cells.append(tf.nn.rnn_cell.GRUCell(hidden_dim))\n",
        "            \n",
        "    cell = tf.nn.rnn_cell.MultiRNNCell(cells)\n",
        "    \n",
        "    w_in = tf.Variable(tf.random_normal([input_dim , hidden_dim]))\n",
        "    b_in = tf.Variable(tf.random_normal([hidden_dim], mean=1.0))\n",
        "    w_out = tf.Variable(tf.random_normal([hidden_dim , output_dim]))\n",
        "    b_out = tf.Variable(tf.random_normal([output_dim]))\n",
        "\n",
        "    reshaped_inputs = [tf.nn.relu(tf.matmul(i, w_in) + b_in) for i in enc_inp]\n",
        "    \n",
        "    dec_outputs, dec_memory = tf.nn.seq2seq.basic_rnn_seq2seq(enc_inp, dec_inp, cell)\n",
        "    \n",
        "    output_scale_factor = tf.Variable(1.0, name=\"Output_ScaleFactor\")\n",
        "    reshaped_outputs = [output_scale_factor * (tf.matmul(i, w_out) + b_out) for i in dec_outputs]"
      ],
      "execution_count": 7,
      "outputs": [
        {
          "output_type": "stream",
          "text": [
            "WARNING:tensorflow:From <ipython-input-7-a9e263b0cf24>:17: GRUCell.__init__ (from tensorflow.python.ops.rnn_cell_impl) is deprecated and will be removed in a future version.\n",
            "Instructions for updating:\n",
            "This class is equivalent as tf.keras.layers.GRUCell, and will be replaced by that in Tensorflow 2.0.\n",
            "WARNING:tensorflow:From <ipython-input-7-a9e263b0cf24>:19: MultiRNNCell.__init__ (from tensorflow.python.ops.rnn_cell_impl) is deprecated and will be removed in a future version.\n",
            "Instructions for updating:\n",
            "This class is equivalent as tf.keras.layers.StackedRNNCells, and will be replaced by that in Tensorflow 2.0.\n",
            "WARNING:tensorflow:From /tensorflow-1.15.2/python3.6/tensorflow_core/contrib/legacy_seq2seq/python/ops/seq2seq.py:186: static_rnn (from tensorflow.python.ops.rnn) is deprecated and will be removed in a future version.\n",
            "Instructions for updating:\n",
            "Please use `keras.layers.RNN(cell, unroll=True)`, which is equivalent to this API\n",
            "WARNING:tensorflow:From /tensorflow-1.15.2/python3.6/tensorflow_core/python/ops/rnn_cell_impl.py:559: Layer.add_variable (from tensorflow.python.keras.engine.base_layer) is deprecated and will be removed in a future version.\n",
            "Instructions for updating:\n",
            "Please use `layer.add_weight` method instead.\n",
            "WARNING:tensorflow:From /tensorflow-1.15.2/python3.6/tensorflow_core/python/ops/rnn_cell_impl.py:565: calling Constant.__init__ (from tensorflow.python.ops.init_ops) with dtype is deprecated and will be removed in a future version.\n",
            "Instructions for updating:\n",
            "Call initializer instance with the dtype argument instead of passing it to the constructor\n",
            "WARNING:tensorflow:From /tensorflow-1.15.2/python3.6/tensorflow_core/python/ops/rnn_cell_impl.py:575: calling Zeros.__init__ (from tensorflow.python.ops.init_ops) with dtype is deprecated and will be removed in a future version.\n",
            "Instructions for updating:\n",
            "Call initializer instance with the dtype argument instead of passing it to the constructor\n"
          ],
          "name": "stdout"
        }
      ]
    },
    {
      "cell_type": "markdown",
      "metadata": {
        "id": "I2zJDGUutOZE",
        "colab_type": "text"
      },
      "source": [
        "**Description of loss function and optimizer**"
      ]
    },
    {
      "cell_type": "code",
      "metadata": {
        "id": "FtsXiyQNrsNm",
        "colab_type": "code",
        "colab": {}
      },
      "source": [
        "with tf.variable_scope('Loss'):\n",
        "    # L2 loss\n",
        "    output_loss = 0\n",
        "    for _y, _Y in zip(reshaped_outputs, expected_sparse_output):\n",
        "        output_loss += tf.reduce_mean(tf.nn.l2_loss(_y - _Y))\n",
        "\n",
        "    # слагаемое, отвечающее за L2 регуляризацию\n",
        "    reg_loss = 0\n",
        "    for tf_var in tf.trainable_variables():\n",
        "        if not (\"Bias\" in tf_var.name or \"Output_\" in tf_var.name):\n",
        "            reg_loss += tf.reduce_mean(tf.nn.l2_loss(tf_var))\n",
        "\n",
        "    loss = output_loss  + lambda_l2_reg * reg_loss"
      ],
      "execution_count": 0,
      "outputs": []
    },
    {
      "cell_type": "code",
      "metadata": {
        "id": "HLPRAys7rzty",
        "colab_type": "code",
        "colab": {
          "base_uri": "https://localhost:8080/",
          "height": 88
        },
        "outputId": "8cd524f3-78c9-461f-c15d-8cb89801defc"
      },
      "source": [
        "with tf.variable_scope('Optimizer'):\n",
        "    optimizer = tf.train.RMSPropOptimizer(learning_rate, decay=lr_decay, momentum=momentum)\n",
        "    train_op = optimizer.minimize(loss)"
      ],
      "execution_count": 9,
      "outputs": [
        {
          "output_type": "stream",
          "text": [
            "WARNING:tensorflow:From /tensorflow-1.15.2/python3.6/tensorflow_core/python/training/rmsprop.py:119: calling Ones.__init__ (from tensorflow.python.ops.init_ops) with dtype is deprecated and will be removed in a future version.\n",
            "Instructions for updating:\n",
            "Call initializer instance with the dtype argument instead of passing it to the constructor\n"
          ],
          "name": "stdout"
        }
      ]
    },
    {
      "cell_type": "code",
      "metadata": {
        "id": "8sh6_5on9F2Q",
        "colab_type": "code",
        "colab": {}
      },
      "source": [
        "# Шаг обучения, который оптимизирует веса в соответствии с переданным минипакетом-примеров\n",
        "def train_batch(batch_size):\n",
        "    X, Y = generate_x_y_data_v1(isTrain=True , batch_size=batch_size)\n",
        "    feed_dict = {enc_inp[t]: X[t] for t in range(len(enc_inp))} \n",
        "    feed_dict.update({expected_sparse_output[t]: Y[t] for t in range(len(expected_sparse_output))}) \n",
        "    #  запускаем сессию. При этом рассчитываются тензоры, указанные в первом параметре, \n",
        "    # а значения для них берутся из второго параметра\n",
        "    _, loss_t = sess.run([train_op , loss], feed_dict)\n",
        "    \n",
        "    return loss_t"
      ],
      "execution_count": 0,
      "outputs": []
    },
    {
      "cell_type": "markdown",
      "metadata": {
        "id": "Kqd-VgastE9J",
        "colab_type": "text"
      },
      "source": [
        "**Neural Network training and validation**"
      ]
    },
    {
      "cell_type": "code",
      "metadata": {
        "id": "BOa8fdVv9F77",
        "colab_type": "code",
        "outputId": "367be8ff-d588-4e0a-eca2-60d3b70aae29",
        "colab": {
          "base_uri": "https://localhost:8080/",
          "height": 1000
        }
      },
      "source": [
        "# Тестовый прогон. Веса не обновляются благодаря тому, что переменная train_op не передается в sess.run\n",
        "def test_batch(batch_size, graph=False): \n",
        "    X, Y = generate_x_y_data_v1(isTrain=False, batch_size=batch_size)\n",
        "    feed_dict = {enc_inp[t]: X[t] for t in range(len(enc_inp))}\n",
        "    feed_dict.update({expected_sparse_output[t]: Y[t] for t in range(len(expected_sparse_output))}) \n",
        "    loss_t = sess.run([loss], feed_dict)\n",
        "    \n",
        "    return loss_t[0]\n",
        "\n",
        "train_losses = []\n",
        "test_losses = []\n",
        "sess.run(tf.global_variables_initializer())\n",
        "\n",
        "#nb_iters - количество шагов для обучения. После каждых 10 шагов проверяется ошибка на тестовой выборке\n",
        "\n",
        "for t in range(nb_iters+1):\n",
        "    train_loss = train_batch(batch_size)\n",
        "    train_losses.append(train_loss)\n",
        "\n",
        "    if t % 10 == 0:\n",
        "        test_loss = test_batch(batch_size, t==nb_iters)\n",
        "        test_losses.append(test_loss)\n",
        "        print(\"Step {}/{}, train loss: {}, \\tTEST loss: {}\".format(t, nb_iters , train_loss , test_loss))\n",
        "\n",
        "print(\"Final:. train loss: {}, \\tTEST loss: {}\".format(train_loss , test_loss))"
      ],
      "execution_count": 11,
      "outputs": [
        {
          "output_type": "stream",
          "text": [
            "Step 0/2000, train loss: 81.68933868408203, \tTEST loss: 27.660045623779297\n",
            "Step 10/2000, train loss: 3.0770108699798584, \tTEST loss: 2.2753493785858154\n",
            "Step 20/2000, train loss: 2.848909616470337, \tTEST loss: 1.971521019935608\n",
            "Step 30/2000, train loss: 2.8879802227020264, \tTEST loss: 4.613121032714844\n",
            "Step 40/2000, train loss: 2.331000328063965, \tTEST loss: 1.3754099607467651\n",
            "Step 50/2000, train loss: 1.255721926689148, \tTEST loss: 1.713053822517395\n",
            "Step 60/2000, train loss: 1.4181146621704102, \tTEST loss: 0.9682070016860962\n",
            "Step 70/2000, train loss: 1.1256264448165894, \tTEST loss: 0.8563746213912964\n",
            "Step 80/2000, train loss: 0.8523278832435608, \tTEST loss: 1.041957974433899\n",
            "Step 90/2000, train loss: 3.303670644760132, \tTEST loss: 1.5381476879119873\n",
            "Step 100/2000, train loss: 1.4893542528152466, \tTEST loss: 1.7500567436218262\n",
            "Step 110/2000, train loss: 1.5433207750320435, \tTEST loss: 2.120370864868164\n",
            "Step 120/2000, train loss: 1.8830729722976685, \tTEST loss: 2.3458354473114014\n",
            "Step 130/2000, train loss: 0.7886525392532349, \tTEST loss: 1.0026532411575317\n",
            "Step 140/2000, train loss: 0.9946097135543823, \tTEST loss: 1.1849730014801025\n",
            "Step 150/2000, train loss: 0.6612595915794373, \tTEST loss: 0.9238783121109009\n",
            "Step 160/2000, train loss: 1.1987844705581665, \tTEST loss: 0.9150766730308533\n",
            "Step 170/2000, train loss: 0.9761092066764832, \tTEST loss: 1.1136099100112915\n",
            "Step 180/2000, train loss: 0.7744901180267334, \tTEST loss: 1.002244234085083\n",
            "Step 190/2000, train loss: 1.616326093673706, \tTEST loss: 0.8656275272369385\n",
            "Step 200/2000, train loss: 1.273369550704956, \tTEST loss: 1.7700015306472778\n",
            "Step 210/2000, train loss: 0.9679735898971558, \tTEST loss: 0.6670171022415161\n",
            "Step 220/2000, train loss: 1.2510700225830078, \tTEST loss: 1.3856980800628662\n",
            "Step 230/2000, train loss: 1.2626060247421265, \tTEST loss: 1.1830165386199951\n",
            "Step 240/2000, train loss: 1.4796745777130127, \tTEST loss: 1.4705305099487305\n",
            "Step 250/2000, train loss: 1.970064640045166, \tTEST loss: 0.6544322967529297\n",
            "Step 260/2000, train loss: 0.751828670501709, \tTEST loss: 1.167470932006836\n",
            "Step 270/2000, train loss: 1.3678981065750122, \tTEST loss: 1.0623551607131958\n",
            "Step 280/2000, train loss: 0.4575742185115814, \tTEST loss: 0.5181072950363159\n",
            "Step 290/2000, train loss: 0.42281022667884827, \tTEST loss: 0.6589210033416748\n",
            "Step 300/2000, train loss: 1.7712059020996094, \tTEST loss: 0.7773455381393433\n",
            "Step 310/2000, train loss: 0.9844666719436646, \tTEST loss: 0.8442928791046143\n",
            "Step 320/2000, train loss: 1.643674612045288, \tTEST loss: 1.1762471199035645\n",
            "Step 330/2000, train loss: 0.41041314601898193, \tTEST loss: 0.5853961706161499\n",
            "Step 340/2000, train loss: 1.1494178771972656, \tTEST loss: 1.211380958557129\n",
            "Step 350/2000, train loss: 0.8112661242485046, \tTEST loss: 0.8262944221496582\n",
            "Step 360/2000, train loss: 0.7887128591537476, \tTEST loss: 1.078390121459961\n",
            "Step 370/2000, train loss: 0.559429943561554, \tTEST loss: 0.7752630710601807\n",
            "Step 380/2000, train loss: 0.6507591605186462, \tTEST loss: 0.47405797243118286\n",
            "Step 390/2000, train loss: 0.491519570350647, \tTEST loss: 0.6443868279457092\n",
            "Step 400/2000, train loss: 0.6519248485565186, \tTEST loss: 0.7672519683837891\n",
            "Step 410/2000, train loss: 1.5854145288467407, \tTEST loss: 0.6599805951118469\n",
            "Step 420/2000, train loss: 0.6794335246086121, \tTEST loss: 0.9599462151527405\n",
            "Step 430/2000, train loss: 0.8700661063194275, \tTEST loss: 0.9386266469955444\n",
            "Step 440/2000, train loss: 0.38076019287109375, \tTEST loss: 0.44701671600341797\n",
            "Step 450/2000, train loss: 0.8311294913291931, \tTEST loss: 0.4526583254337311\n",
            "Step 460/2000, train loss: 0.47333917021751404, \tTEST loss: 0.5875823497772217\n",
            "Step 470/2000, train loss: 0.45618388056755066, \tTEST loss: 0.5106118321418762\n",
            "Step 480/2000, train loss: 0.5194781422615051, \tTEST loss: 0.5325484871864319\n",
            "Step 490/2000, train loss: 0.7033044695854187, \tTEST loss: 0.5902055501937866\n",
            "Step 500/2000, train loss: 1.0950846672058105, \tTEST loss: 0.7012490630149841\n",
            "Step 510/2000, train loss: 1.7343358993530273, \tTEST loss: 1.3726657629013062\n",
            "Step 520/2000, train loss: 0.445965051651001, \tTEST loss: 0.6155421733856201\n",
            "Step 530/2000, train loss: 0.7414488792419434, \tTEST loss: 1.9103654623031616\n",
            "Step 540/2000, train loss: 0.6150954365730286, \tTEST loss: 0.6567642688751221\n",
            "Step 550/2000, train loss: 0.38865989446640015, \tTEST loss: 0.4758692979812622\n",
            "Step 560/2000, train loss: 1.3094780445098877, \tTEST loss: 0.7271658182144165\n",
            "Step 570/2000, train loss: 1.408280372619629, \tTEST loss: 0.5938456654548645\n",
            "Step 580/2000, train loss: 0.5292348265647888, \tTEST loss: 0.38470208644866943\n",
            "Step 590/2000, train loss: 1.0431435108184814, \tTEST loss: 0.42236006259918213\n",
            "Step 600/2000, train loss: 0.5873470306396484, \tTEST loss: 0.6018553376197815\n",
            "Step 610/2000, train loss: 0.46764957904815674, \tTEST loss: 0.399476021528244\n",
            "Step 620/2000, train loss: 0.9034348726272583, \tTEST loss: 1.2446942329406738\n",
            "Step 630/2000, train loss: 1.132186770439148, \tTEST loss: 0.7348476648330688\n",
            "Step 640/2000, train loss: 0.4922548234462738, \tTEST loss: 0.32627740502357483\n",
            "Step 650/2000, train loss: 0.65064936876297, \tTEST loss: 0.39052262902259827\n",
            "Step 660/2000, train loss: 0.42508870363235474, \tTEST loss: 0.41624122858047485\n",
            "Step 670/2000, train loss: 0.7026425004005432, \tTEST loss: 0.9876701235771179\n",
            "Step 680/2000, train loss: 0.5436142683029175, \tTEST loss: 0.7474299669265747\n",
            "Step 690/2000, train loss: 1.0241800546646118, \tTEST loss: 1.0423438549041748\n",
            "Step 700/2000, train loss: 0.5916739106178284, \tTEST loss: 0.5727553963661194\n",
            "Step 710/2000, train loss: 0.5930781960487366, \tTEST loss: 0.8741739988327026\n",
            "Step 720/2000, train loss: 0.4820418357849121, \tTEST loss: 0.5593082904815674\n",
            "Step 730/2000, train loss: 0.8917598724365234, \tTEST loss: 0.4508812129497528\n",
            "Step 740/2000, train loss: 0.3425535559654236, \tTEST loss: 0.47686219215393066\n",
            "Step 750/2000, train loss: 0.8425822257995605, \tTEST loss: 0.5584027767181396\n",
            "Step 760/2000, train loss: 0.4521723985671997, \tTEST loss: 0.4287359118461609\n",
            "Step 770/2000, train loss: 1.0467218160629272, \tTEST loss: 0.7068213224411011\n",
            "Step 780/2000, train loss: 0.5880101919174194, \tTEST loss: 0.4936147928237915\n",
            "Step 790/2000, train loss: 1.1197209358215332, \tTEST loss: 0.5865833163261414\n",
            "Step 800/2000, train loss: 0.28339794278144836, \tTEST loss: 0.3544040322303772\n",
            "Step 810/2000, train loss: 0.39143043756484985, \tTEST loss: 0.44898658990859985\n",
            "Step 820/2000, train loss: 0.49773967266082764, \tTEST loss: 0.4526504874229431\n",
            "Step 830/2000, train loss: 0.5993654727935791, \tTEST loss: 0.4530143737792969\n",
            "Step 840/2000, train loss: 0.3065432906150818, \tTEST loss: 0.5759763717651367\n",
            "Step 850/2000, train loss: 0.33733028173446655, \tTEST loss: 0.43079906702041626\n",
            "Step 860/2000, train loss: 0.569826066493988, \tTEST loss: 0.6112220287322998\n",
            "Step 870/2000, train loss: 0.3641475439071655, \tTEST loss: 0.40860551595687866\n",
            "Step 880/2000, train loss: 1.2755670547485352, \tTEST loss: 1.4124815464019775\n",
            "Step 890/2000, train loss: 0.6954874992370605, \tTEST loss: 0.4948837161064148\n",
            "Step 900/2000, train loss: 0.9450351595878601, \tTEST loss: 1.3258814811706543\n",
            "Step 910/2000, train loss: 0.5791990756988525, \tTEST loss: 0.4107142686843872\n",
            "Step 920/2000, train loss: 0.5758082866668701, \tTEST loss: 0.4330015778541565\n",
            "Step 930/2000, train loss: 0.46448254585266113, \tTEST loss: 0.6281871199607849\n",
            "Step 940/2000, train loss: 0.30024170875549316, \tTEST loss: 0.3013516664505005\n",
            "Step 950/2000, train loss: 0.6772419810295105, \tTEST loss: 1.061295509338379\n",
            "Step 960/2000, train loss: 0.8179774880409241, \tTEST loss: 0.9229488372802734\n",
            "Step 970/2000, train loss: 0.546564519405365, \tTEST loss: 0.49371203780174255\n",
            "Step 980/2000, train loss: 0.6056810617446899, \tTEST loss: 0.804570734500885\n",
            "Step 990/2000, train loss: 0.61209636926651, \tTEST loss: 0.6065826416015625\n",
            "Step 1000/2000, train loss: 0.3589686155319214, \tTEST loss: 0.33387458324432373\n",
            "Step 1010/2000, train loss: 0.38077735900878906, \tTEST loss: 0.28089582920074463\n",
            "Step 1020/2000, train loss: 0.44242584705352783, \tTEST loss: 0.5559743642807007\n",
            "Step 1030/2000, train loss: 0.3387305736541748, \tTEST loss: 0.45133519172668457\n",
            "Step 1040/2000, train loss: 0.5687657594680786, \tTEST loss: 0.7022197246551514\n",
            "Step 1050/2000, train loss: 0.8404257893562317, \tTEST loss: 1.1706335544586182\n",
            "Step 1060/2000, train loss: 0.4092077910900116, \tTEST loss: 0.5230576992034912\n",
            "Step 1070/2000, train loss: 0.3409743309020996, \tTEST loss: 0.5090028047561646\n",
            "Step 1080/2000, train loss: 0.3662465512752533, \tTEST loss: 0.41857343912124634\n",
            "Step 1090/2000, train loss: 0.4977308511734009, \tTEST loss: 0.7129074931144714\n",
            "Step 1100/2000, train loss: 0.4921128749847412, \tTEST loss: 0.5988682508468628\n",
            "Step 1110/2000, train loss: 0.8624992966651917, \tTEST loss: 0.7280120849609375\n",
            "Step 1120/2000, train loss: 0.5188963413238525, \tTEST loss: 0.6699444055557251\n",
            "Step 1130/2000, train loss: 0.5609064102172852, \tTEST loss: 1.0379048585891724\n",
            "Step 1140/2000, train loss: 0.7069356441497803, \tTEST loss: 0.5723466873168945\n",
            "Step 1150/2000, train loss: 0.6057698130607605, \tTEST loss: 0.4466145932674408\n",
            "Step 1160/2000, train loss: 0.6188132762908936, \tTEST loss: 0.46001166105270386\n",
            "Step 1170/2000, train loss: 0.3261556029319763, \tTEST loss: 0.5024601221084595\n",
            "Step 1180/2000, train loss: 0.8104007840156555, \tTEST loss: 0.6969682574272156\n",
            "Step 1190/2000, train loss: 0.7828956842422485, \tTEST loss: 0.6036763191223145\n",
            "Step 1200/2000, train loss: 0.6673271656036377, \tTEST loss: 0.9241217970848083\n",
            "Step 1210/2000, train loss: 0.3214883804321289, \tTEST loss: 0.511900007724762\n",
            "Step 1220/2000, train loss: 0.7486603260040283, \tTEST loss: 0.7770956158638\n",
            "Step 1230/2000, train loss: 0.8730378150939941, \tTEST loss: 0.5624445080757141\n",
            "Step 1240/2000, train loss: 0.8308640122413635, \tTEST loss: 0.9962429404258728\n",
            "Step 1250/2000, train loss: 0.7575598359107971, \tTEST loss: 0.5448115468025208\n",
            "Step 1260/2000, train loss: 0.3664441406726837, \tTEST loss: 0.5240483283996582\n",
            "Step 1270/2000, train loss: 0.6615546941757202, \tTEST loss: 0.4933871924877167\n",
            "Step 1280/2000, train loss: 0.5477179288864136, \tTEST loss: 0.4139081835746765\n",
            "Step 1290/2000, train loss: 0.40205705165863037, \tTEST loss: 0.4349774122238159\n",
            "Step 1300/2000, train loss: 0.3046697974205017, \tTEST loss: 0.4616013765335083\n",
            "Step 1310/2000, train loss: 0.5413559675216675, \tTEST loss: 0.7567393779754639\n",
            "Step 1320/2000, train loss: 0.5591383576393127, \tTEST loss: 0.6322373151779175\n",
            "Step 1330/2000, train loss: 0.7505999803543091, \tTEST loss: 0.626563310623169\n",
            "Step 1340/2000, train loss: 0.3973594903945923, \tTEST loss: 0.38886839151382446\n",
            "Step 1350/2000, train loss: 0.6792667508125305, \tTEST loss: 0.39667248725891113\n",
            "Step 1360/2000, train loss: 0.5321779847145081, \tTEST loss: 0.71471107006073\n",
            "Step 1370/2000, train loss: 0.47397440671920776, \tTEST loss: 0.5154865384101868\n",
            "Step 1380/2000, train loss: 0.7436652183532715, \tTEST loss: 0.5957697629928589\n",
            "Step 1390/2000, train loss: 0.49342361092567444, \tTEST loss: 0.4795530140399933\n",
            "Step 1400/2000, train loss: 0.6441768407821655, \tTEST loss: 0.5162205696105957\n",
            "Step 1410/2000, train loss: 1.0594940185546875, \tTEST loss: 0.5119856595993042\n",
            "Step 1420/2000, train loss: 0.43531811237335205, \tTEST loss: 0.4806704521179199\n",
            "Step 1430/2000, train loss: 0.2802141308784485, \tTEST loss: 0.3741500973701477\n",
            "Step 1440/2000, train loss: 0.4309094548225403, \tTEST loss: 0.5007456541061401\n",
            "Step 1450/2000, train loss: 0.38523900508880615, \tTEST loss: 0.5496271848678589\n",
            "Step 1460/2000, train loss: 0.4724864959716797, \tTEST loss: 0.3509332537651062\n",
            "Step 1470/2000, train loss: 0.834446370601654, \tTEST loss: 0.581184983253479\n",
            "Step 1480/2000, train loss: 0.318472683429718, \tTEST loss: 0.3352900445461273\n",
            "Step 1490/2000, train loss: 0.549502968788147, \tTEST loss: 0.4702806770801544\n",
            "Step 1500/2000, train loss: 0.5873722434043884, \tTEST loss: 0.5698690414428711\n",
            "Step 1510/2000, train loss: 0.37506064772605896, \tTEST loss: 0.524367094039917\n",
            "Step 1520/2000, train loss: 0.43232595920562744, \tTEST loss: 0.4603782594203949\n",
            "Step 1530/2000, train loss: 0.7988334894180298, \tTEST loss: 0.6776698231697083\n",
            "Step 1540/2000, train loss: 0.340346097946167, \tTEST loss: 0.48601463437080383\n",
            "Step 1550/2000, train loss: 1.4275070428848267, \tTEST loss: 0.5034142732620239\n",
            "Step 1560/2000, train loss: 0.32462143898010254, \tTEST loss: 0.3851085305213928\n",
            "Step 1570/2000, train loss: 1.0738921165466309, \tTEST loss: 1.0996235609054565\n",
            "Step 1580/2000, train loss: 0.5232369899749756, \tTEST loss: 0.2951000928878784\n",
            "Step 1590/2000, train loss: 0.32250821590423584, \tTEST loss: 0.30211034417152405\n",
            "Step 1600/2000, train loss: 0.4664149880409241, \tTEST loss: 0.554777979850769\n",
            "Step 1610/2000, train loss: 0.5972878336906433, \tTEST loss: 0.6018848419189453\n",
            "Step 1620/2000, train loss: 0.6412522196769714, \tTEST loss: 1.0320188999176025\n",
            "Step 1630/2000, train loss: 0.7473845481872559, \tTEST loss: 0.5257334113121033\n",
            "Step 1640/2000, train loss: 0.6148891448974609, \tTEST loss: 0.6085816621780396\n",
            "Step 1650/2000, train loss: 0.5212547183036804, \tTEST loss: 0.3983503580093384\n",
            "Step 1660/2000, train loss: 0.3822208642959595, \tTEST loss: 0.300850510597229\n",
            "Step 1670/2000, train loss: 0.85384601354599, \tTEST loss: 0.4055106043815613\n",
            "Step 1680/2000, train loss: 0.40410593152046204, \tTEST loss: 0.46807360649108887\n",
            "Step 1690/2000, train loss: 0.39265018701553345, \tTEST loss: 0.9234320521354675\n",
            "Step 1700/2000, train loss: 0.3361012935638428, \tTEST loss: 0.3670666515827179\n",
            "Step 1710/2000, train loss: 0.6449292302131653, \tTEST loss: 0.8740625977516174\n",
            "Step 1720/2000, train loss: 0.4968548119068146, \tTEST loss: 0.4100866913795471\n",
            "Step 1730/2000, train loss: 0.43285346031188965, \tTEST loss: 0.35537707805633545\n",
            "Step 1740/2000, train loss: 0.3176954984664917, \tTEST loss: 0.2897646129131317\n",
            "Step 1750/2000, train loss: 0.3660866618156433, \tTEST loss: 0.55352383852005\n",
            "Step 1760/2000, train loss: 0.3467232584953308, \tTEST loss: 0.40131428837776184\n",
            "Step 1770/2000, train loss: 0.4905068874359131, \tTEST loss: 0.5524672269821167\n",
            "Step 1780/2000, train loss: 1.149444818496704, \tTEST loss: 1.1110893487930298\n",
            "Step 1790/2000, train loss: 0.42524123191833496, \tTEST loss: 0.4821729063987732\n",
            "Step 1800/2000, train loss: 0.5899257659912109, \tTEST loss: 0.6672841906547546\n",
            "Step 1810/2000, train loss: 0.3297273516654968, \tTEST loss: 0.6458544731140137\n",
            "Step 1820/2000, train loss: 0.6358382105827332, \tTEST loss: 0.9121896028518677\n",
            "Step 1830/2000, train loss: 0.5393537282943726, \tTEST loss: 0.43705230951309204\n",
            "Step 1840/2000, train loss: 0.656880795955658, \tTEST loss: 0.745792031288147\n",
            "Step 1850/2000, train loss: 1.0132585763931274, \tTEST loss: 0.38660597801208496\n",
            "Step 1860/2000, train loss: 0.7829340100288391, \tTEST loss: 0.4770790934562683\n",
            "Step 1870/2000, train loss: 0.40785378217697144, \tTEST loss: 0.4135470986366272\n",
            "Step 1880/2000, train loss: 0.8460015058517456, \tTEST loss: 0.4202660918235779\n",
            "Step 1890/2000, train loss: 0.4219149947166443, \tTEST loss: 0.31713980436325073\n",
            "Step 1900/2000, train loss: 0.3998560309410095, \tTEST loss: 0.5740987062454224\n",
            "Step 1910/2000, train loss: 0.5107642412185669, \tTEST loss: 0.4672848880290985\n",
            "Step 1920/2000, train loss: 0.4249950051307678, \tTEST loss: 0.45704978704452515\n",
            "Step 1930/2000, train loss: 0.5712006688117981, \tTEST loss: 0.7727351784706116\n",
            "Step 1940/2000, train loss: 0.6529995799064636, \tTEST loss: 0.4616967439651489\n",
            "Step 1950/2000, train loss: 0.4982053339481354, \tTEST loss: 0.4220614731311798\n",
            "Step 1960/2000, train loss: 0.805703341960907, \tTEST loss: 0.7745356559753418\n",
            "Step 1970/2000, train loss: 0.576396644115448, \tTEST loss: 0.6435129642486572\n",
            "Step 1980/2000, train loss: 0.4239087700843811, \tTEST loss: 0.3881142735481262\n",
            "Step 1990/2000, train loss: 0.551307201385498, \tTEST loss: 0.6982969641685486\n",
            "Step 2000/2000, train loss: 0.5505795478820801, \tTEST loss: 0.7887534499168396\n",
            "Final:. train loss: 0.5505795478820801, \tTEST loss: 0.7887534499168396\n"
          ],
          "name": "stdout"
        }
      ]
    },
    {
      "cell_type": "markdown",
      "metadata": {
        "id": "UYztURk7tdZx",
        "colab_type": "text"
      },
      "source": [
        "***Results Visualization***"
      ]
    },
    {
      "cell_type": "markdown",
      "metadata": {
        "id": "RaNM30CXtdxk",
        "colab_type": "text"
      },
      "source": [
        "***Error dynamics in the training and test sample by iterations***"
      ]
    },
    {
      "cell_type": "code",
      "metadata": {
        "id": "oiQIoHSG9F6T",
        "colab_type": "code",
        "outputId": "e2bd4f4a-3781-4268-c504-4abe60525af9",
        "colab": {
          "base_uri": "https://localhost:8080/",
          "height": 404
        }
      },
      "source": [
        "plt.figure(figsize=(12, 6))\n",
        "plt.plot( np.array(range(0, len(test_losses)))/float(len(test_losses)-1)*(len(train_losses)-1), np.log(test_losses), label=\"Test loss\")\n",
        "plt.plot(np.log(train_losses), label=\"Train loss\")\n",
        "\n",
        "plt.title(\"error vs time (log scale)\") \n",
        "plt.legend([\"Test\",\"Train\"])\n",
        "plt.xlabel('iter')\n",
        "plt.ylabel('log(Loss)') \n",
        "plt.show()"
      ],
      "execution_count": 12,
      "outputs": [
        {
          "output_type": "display_data",
          "data": {
            "image/png": "[encoded data removed]",
            "text/plain": [
              "<Figure size 864x432 with 1 Axes>"
            ]
          },
          "metadata": {
            "tags": [],
            "needs_background": "light"
          }
        }
      ]
    },
    {
      "cell_type": "markdown",
      "metadata": {
        "id": "qay-jI60tsRy",
        "colab_type": "text"
      },
      "source": [
        "**Prediction Visualization**"
      ]
    },
    {
      "cell_type": "code",
      "metadata": {
        "id": "Cd0sno6c9F0q",
        "colab_type": "code",
        "outputId": "e759d117-9591-4d80-f55f-98ec01f10417",
        "colab": {
          "base_uri": "https://localhost:8080/",
          "height": 465
        }
      },
      "source": [
        "nb_predictions = 1\n",
        "print (\" Let 's visualize {} predictions with our signals :\". format (nb_predictions ))\n",
        "X, Y = generate_x_y_data_v1( isTrain =False , batch_size = nb_predictions )\n",
        "feed_dict = { enc_inp [t]: X[t] for t in range ( seq_length )}\n",
        "outputs = np.array( sess.run([ reshaped_outputs ], feed_dict )[0])\n",
        "# выводим предсказания по каждому пакету\n",
        "for j in range ( nb_predictions ):\n",
        "    plt.figure( figsize =(12 , 3))\n",
        "    for k in range ( output_dim ):\n",
        "        past = X[:,j,k]\n",
        "        expected = Y[:,j,k]\n",
        "        pred = outputs [:,j,k]\n",
        "    label1 = \" Seen ( past ) values \" if k ==0 else \" _nolegend_ \"\n",
        "    label2 = \" True future values \" if k ==0 else \" _nolegend_ \"\n",
        "    label3 = \" Predictions \" if k ==0 else \" _nolegend_ \"\n",
        "    plt.plot(range(len(past)), past , \"o--b\", label = label1 )\n",
        "    plt.plot(range(len(past),len(expected)+len(past)), expected, \"x--b\", label = label2)\n",
        "    plt.plot(range(len(past),len(pred) + len (past)), pred , \"o--y\", label = label3 )\n",
        "    plt.legend( loc ='best ')\n",
        "    plt.title(\" Predictions v.s. true values \")\n",
        "    plt.show()"
      ],
      "execution_count": 14,
      "outputs": [
        {
          "output_type": "stream",
          "text": [
            " Let 's visualize 1 predictions with our signals :\n"
          ],
          "name": "stdout"
        },
        {
          "output_type": "stream",
          "text": [
            "/usr/local/lib/python3.6/dist-packages/ipykernel_launcher.py:19: MatplotlibDeprecationWarning: Unrecognized location 'best '. Falling back on 'best'; valid locations are\n",
            "\tbest\n",
            "\tupper right\n",
            "\tupper left\n",
            "\tlower left\n",
            "\tlower right\n",
            "\tright\n",
            "\tcenter left\n",
            "\tcenter right\n",
            "\tlower center\n",
            "\tupper center\n",
            "\tcenter\n",
            "This will raise an exception in 3.3.\n"
          ],
          "name": "stderr"
        },
        {
          "output_type": "display_data",
          "data": {
            "image/png": "[encoded data removed]",
            "text/plain": [
              "<Figure size 864x216 with 1 Axes>"
            ]
          },
          "metadata": {
            "tags": [],
            "needs_background": "light"
          }
        }
      ]
    }
  ]
}